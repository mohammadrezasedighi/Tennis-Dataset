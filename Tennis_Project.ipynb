{
 "cells": [
  {
   "cell_type": "code",
   "execution_count": 3,
   "metadata": {},
   "outputs": [],
   "source": [
    "import numpy as np\n",
    "import pandas as pd\n",
    "import os\n",
    "import pyarrow.parquet as pa\n",
    "import matplotlib.pyplot as plt\n",
    "import seaborn as sns\n",
    "from scipy.stats import ttest_ind\n"
   ]
  },
  {
   "cell_type": "markdown",
   "metadata": {},
   "source": [
    "# Tables"
   ]
  },
  {
   "cell_type": "code",
   "execution_count": 4,
   "metadata": {},
   "outputs": [],
   "source": [
    "li_power = []\n",
    "for file in os.listdir(\"PowerInfo\"):\n",
    "    li_power.append(pd.read_parquet(f\"PowerInfo/{file}\"))\n",
    "PowerInfo = pd.concat(li_power, axis=0, ignore_index=True)\n"
   ]
  },
  {
   "cell_type": "code",
   "execution_count": 5,
   "metadata": {},
   "outputs": [],
   "source": [
    "li_period = []\n",
    "for file in os.listdir(\"PeriodInfo\"):\n",
    "    li_period.append(pd.read_parquet(f\"PeriodInfo/{file}\"))\n",
    "PeriodInfo = pd.concat(li_period, axis=0, ignore_index=True)\n"
   ]
  },
  {
   "cell_type": "code",
   "execution_count": 6,
   "metadata": {},
   "outputs": [],
   "source": [
    "li_gameInfo = []\n",
    "for file in os.listdir(\"GameInfo\"):\n",
    "    li_gameInfo.append(pd.read_parquet(f\"GameInfo/{file}\"))\n",
    "GameInfo = pd.concat(li_gameInfo, axis=0, ignore_index=True)"
   ]
  },
  {
   "cell_type": "code",
   "execution_count": 7,
   "metadata": {},
   "outputs": [
    {
     "name": "stderr",
     "output_type": "stream",
     "text": [
      "C:\\Users\\fz\\AppData\\Local\\Temp\\ipykernel_18808\\1057753253.py:4: FutureWarning: The behavior of DataFrame concatenation with empty or all-NA entries is deprecated. In a future version, this will no longer exclude empty or all-NA columns when determining the result dtypes. To retain the old behavior, exclude the relevant entries before the concat operation.\n",
      "  MatchHomeTeamInfo = pd.concat(li_homeTeam, axis=0, ignore_index=True)\n"
     ]
    }
   ],
   "source": [
    "li_homeTeam = []\n",
    "for file in os.listdir(\"MatchHomeTeamInfo\"):\n",
    "    li_homeTeam.append(pd.read_parquet(f\"MatchHomeTeamInfo/{file}\"))\n",
    "MatchHomeTeamInfo = pd.concat(li_homeTeam, axis=0, ignore_index=True)"
   ]
  },
  {
   "cell_type": "code",
   "execution_count": 8,
   "metadata": {},
   "outputs": [
    {
     "name": "stderr",
     "output_type": "stream",
     "text": [
      "C:\\Users\\fz\\AppData\\Local\\Temp\\ipykernel_18808\\2603646164.py:4: FutureWarning: The behavior of DataFrame concatenation with empty or all-NA entries is deprecated. In a future version, this will no longer exclude empty or all-NA columns when determining the result dtypes. To retain the old behavior, exclude the relevant entries before the concat operation.\n",
      "  MatchAwayTeamInfo = pd.concat(li_awayTeam, axis=0, ignore_index=True)\n"
     ]
    }
   ],
   "source": [
    "li_awayTeam=[]\n",
    "for file in os.listdir(\"MatchAwayTeamInfo\"):\n",
    "    li_awayTeam.append(pd.read_parquet(f\"MatchAwayTeamInfo/{file}\"))\n",
    "MatchAwayTeamInfo = pd.concat(li_awayTeam, axis=0, ignore_index=True)"
   ]
  },
  {
   "cell_type": "code",
   "execution_count": 9,
   "metadata": {},
   "outputs": [],
   "source": [
    "li_MatchEventInfo = []\n",
    "for file in os.listdir(\"MatchEventInfo\"):\n",
    "    li_MatchEventInfo.append(pd.read_parquet(f\"MatchEventInfo/{file}\"))\n",
    "MatchEventInfo = pd.concat(li_MatchEventInfo, axis=0, ignore_index=True)\n"
   ]
  },
  {
   "cell_type": "code",
   "execution_count": 10,
   "metadata": {},
   "outputs": [],
   "source": [
    "li_homeScore = []\n",
    "for file in os.listdir(\"MatchHomeScoreInfo\"):\n",
    "    li_homeScore.append(pd.read_parquet(f\"MatchHomeScoreInfo/{file}\"))\n",
    "MatchHomeScoreInfo = pd.concat(li_homeScore, axis=0, ignore_index=True)\n"
   ]
  },
  {
   "cell_type": "code",
   "execution_count": 11,
   "metadata": {},
   "outputs": [],
   "source": [
    "li_awayScore=[]\n",
    "for file in os.listdir(\"MatchAwayScoreInfo\"):\n",
    "    li_awayScore.append(pd.read_parquet(f\"MatchAwayScoreInfo/{file}\"))\n",
    "MatchAwayScoreInfo = pd.concat(li_awayScore, axis=0, ignore_index=True)"
   ]
  },
  {
   "cell_type": "code",
   "execution_count": 13,
   "metadata": {},
   "outputs": [],
   "source": [
    "li_round = []\n",
    "for file in os.listdir(\"MatchRoundInfo\"):\n",
    "    li_round.append(pd.read_parquet(f\"MatchRoundInfo/{file}\"))\n",
    "MatchRoundInfo = pd.concat(li_round, axis=0, ignore_index=True)"
   ]
  },
  {
   "cell_type": "code",
   "execution_count": 12,
   "metadata": {},
   "outputs": [],
   "source": [
    "li_season = []\n",
    "for file in os.listdir(\"MatchSeasonInfo\"):\n",
    "    li_season.append(pd.read_parquet(f\"MatchSeasonInfo/{file}\"))\n",
    "MatchSeasonInfo = pd.concat(li_season, axis=0, ignore_index=True)"
   ]
  },
  {
   "cell_type": "code",
   "execution_count": 14,
   "metadata": {},
   "outputs": [],
   "source": [
    "li_time = []\n",
    "for file in os.listdir(\"MatchTimeInfo\"):\n",
    "    li_time.append(pd.read_parquet(f\"MatchTimeInfo/{file}\"))\n",
    "MatchTimeInfo = pd.concat(li_time, axis=0, ignore_index=True)"
   ]
  },
  {
   "cell_type": "code",
   "execution_count": 15,
   "metadata": {},
   "outputs": [],
   "source": [
    "li_tournament = []\n",
    "for file in os.listdir(\"MatchTournamentInfo\"):\n",
    "    li_tournament.append(pd.read_parquet(f\"MatchTournamentInfo/{file}\"))\n",
    "MatchTournamentInfo = pd.concat(li_tournament, axis=0, ignore_index=True)"
   ]
  },
  {
   "cell_type": "code",
   "execution_count": 16,
   "metadata": {},
   "outputs": [],
   "source": [
    "li_venue = []\n",
    "for file in os.listdir(\"MatchVenueInfo\"):\n",
    "    li_venue.append(pd.read_parquet(f\"MatchVenueInfo/{file}\"))\n",
    "MatchVenueInfo = pd.concat(li_venue, axis=0, ignore_index=True)\n"
   ]
  },
  {
   "cell_type": "code",
   "execution_count": 17,
   "metadata": {},
   "outputs": [],
   "source": [
    "li_votes = []\n",
    "for file in os.listdir(\"MatchVotesInfo\"):\n",
    "    li_votes.append(pd.read_parquet(f\"MatchVotesInfo/{file}\"))\n",
    "MatchVotesInfo = pd.concat(li_votes, axis=0, ignore_index=True)"
   ]
  },
  {
   "cell_type": "code",
   "execution_count": 18,
   "metadata": {},
   "outputs": [],
   "source": [
    "li_odds = []\n",
    "for file in os.listdir(\"OddsInfo\"):\n",
    "    li_odds.append(pd.read_parquet(f\"OddsInfo/{file}\"))\n",
    "OddsInfo = pd.concat(li_odds, axis=0, ignore_index=True)"
   ]
  },
  {
   "cell_type": "markdown",
   "metadata": {},
   "source": [
    "# QUESTIONS"
   ]
  },
  {
   "cell_type": "markdown",
   "metadata": {},
   "source": [
    "# 1. How many tennis players are included in the dataset? "
   ]
  },
  {
   "cell_type": "code",
   "execution_count": 44,
   "metadata": {},
   "outputs": [
    {
     "data": {
      "text/plain": [
       "596"
      ]
     },
     "execution_count": 44,
     "metadata": {},
     "output_type": "execute_result"
    }
   ],
   "source": [
    "away = MatchAwayTeamInfo\n",
    "home = MatchHomeTeamInfo\n",
    "players = pd.concat([home, away], ignore_index=True)\n",
    "players[\"player_id\"].nunique()"
   ]
  },
  {
   "cell_type": "markdown",
   "metadata": {},
   "source": [
    "# 2. average years of being a pro tennis player ? "
   ]
  },
  {
   "cell_type": "code",
   "execution_count": 65,
   "metadata": {},
   "outputs": [
    {
     "name": "stdout",
     "output_type": "stream",
     "text": [
      "the average years of being pro is 12.0\n"
     ]
    },
    {
     "name": "stderr",
     "output_type": "stream",
     "text": [
      "C:\\Users\\fz\\AppData\\Local\\Temp\\ipykernel_18772\\1428076973.py:5: SettingWithCopyWarning: \n",
      "A value is trying to be set on a copy of a slice from a DataFrame.\n",
      "Try using .loc[row_indexer,col_indexer] = value instead\n",
      "\n",
      "See the caveats in the documentation: https://pandas.pydata.org/pandas-docs/stable/user_guide/indexing.html#returning-a-view-versus-a-copy\n",
      "  tmp.loc[:, \"exp\"] = year - tmp.loc[:, \"turned_pro\"]\n"
     ]
    }
   ],
   "source": [
    "import datetime\n",
    "year = datetime.datetime.now().year\n",
    "tmp = players[[\"player_id\", \"turned_pro\"]]\n",
    "tmp.loc[:, \"turned_pro\"] = pd.to_numeric(tmp[\"turned_pro\"])\n",
    "tmp.loc[:, \"exp\"] = year - tmp.loc[:, \"turned_pro\"]\n",
    "median = tmp.dropna()[\"exp\"].median()\n",
    "print(f'the average years of being pro is {median}')\n"
   ]
  },
  {
   "cell_type": "markdown",
   "metadata": {},
   "source": [
    "# 3. Which player has the highest number of wins? "
   ]
  },
  {
   "cell_type": "markdown",
   "metadata": {},
   "source": [
    "first we separate winners of both teams"
   ]
  },
  {
   "cell_type": "code",
   "execution_count": 9,
   "metadata": {},
   "outputs": [
    {
     "data": {
      "text/html": [
       "<div>\n",
       "<style scoped>\n",
       "    .dataframe tbody tr th:only-of-type {\n",
       "        vertical-align: middle;\n",
       "    }\n",
       "\n",
       "    .dataframe tbody tr th {\n",
       "        vertical-align: top;\n",
       "    }\n",
       "\n",
       "    .dataframe thead th {\n",
       "        text-align: right;\n",
       "    }\n",
       "</style>\n",
       "<table border=\"1\" class=\"dataframe\">\n",
       "  <thead>\n",
       "    <tr style=\"text-align: right;\">\n",
       "      <th></th>\n",
       "      <th>player_id</th>\n",
       "      <th>slug</th>\n",
       "      <th>total</th>\n",
       "    </tr>\n",
       "  </thead>\n",
       "  <tbody>\n",
       "    <tr>\n",
       "      <th>0</th>\n",
       "      <td>98951.0</td>\n",
       "      <td>milushev-plamen</td>\n",
       "      <td>3.0</td>\n",
       "    </tr>\n",
       "    <tr>\n",
       "      <th>1</th>\n",
       "      <td>413166.0</td>\n",
       "      <td>panaras-adam</td>\n",
       "      <td>3.0</td>\n",
       "    </tr>\n",
       "    <tr>\n",
       "      <th>2</th>\n",
       "      <td>416491.0</td>\n",
       "      <td>kalina-vit</td>\n",
       "      <td>3.0</td>\n",
       "    </tr>\n",
       "    <tr>\n",
       "      <th>3</th>\n",
       "      <td>15894.0</td>\n",
       "      <td>mannarino-adrian</td>\n",
       "      <td>2.0</td>\n",
       "    </tr>\n",
       "    <tr>\n",
       "      <th>4</th>\n",
       "      <td>144102.0</td>\n",
       "      <td>weis-alexander</td>\n",
       "      <td>2.0</td>\n",
       "    </tr>\n",
       "    <tr>\n",
       "      <th>...</th>\n",
       "      <td>...</td>\n",
       "      <td>...</td>\n",
       "      <td>...</td>\n",
       "    </tr>\n",
       "    <tr>\n",
       "      <th>367</th>\n",
       "      <td>204329.0</td>\n",
       "      <td>hsu-yu-hsiou</td>\n",
       "      <td>1.0</td>\n",
       "    </tr>\n",
       "    <tr>\n",
       "      <th>368</th>\n",
       "      <td>203756.0</td>\n",
       "      <td>reayer-alisha</td>\n",
       "      <td>1.0</td>\n",
       "    </tr>\n",
       "    <tr>\n",
       "      <th>369</th>\n",
       "      <td>200009.0</td>\n",
       "      <td>carbonaro-giulia</td>\n",
       "      <td>1.0</td>\n",
       "    </tr>\n",
       "    <tr>\n",
       "      <th>370</th>\n",
       "      <td>197534.0</td>\n",
       "      <td>nagata-anri</td>\n",
       "      <td>1.0</td>\n",
       "    </tr>\n",
       "    <tr>\n",
       "      <th>371</th>\n",
       "      <td>488404.0</td>\n",
       "      <td>wendler-filho-jefferson</td>\n",
       "      <td>1.0</td>\n",
       "    </tr>\n",
       "  </tbody>\n",
       "</table>\n",
       "<p>372 rows × 3 columns</p>\n",
       "</div>"
      ],
      "text/plain": [
       "     player_id                     slug  total\n",
       "0      98951.0          milushev-plamen    3.0\n",
       "1     413166.0             panaras-adam    3.0\n",
       "2     416491.0               kalina-vit    3.0\n",
       "3      15894.0         mannarino-adrian    2.0\n",
       "4     144102.0           weis-alexander    2.0\n",
       "..         ...                      ...    ...\n",
       "367   204329.0             hsu-yu-hsiou    1.0\n",
       "368   203756.0            reayer-alisha    1.0\n",
       "369   200009.0         carbonaro-giulia    1.0\n",
       "370   197534.0              nagata-anri    1.0\n",
       "371   488404.0  wendler-filho-jefferson    1.0\n",
       "\n",
       "[372 rows x 3 columns]"
      ]
     },
     "execution_count": 9,
     "metadata": {},
     "output_type": "execute_result"
    }
   ],
   "source": [
    "x=MatchEventInfo.dropna(subset=['winner_code'])\n",
    "x_home=x[x['winner_code']==1]\n",
    "x_away=x[x['winner_code']==2]\n",
    "final_away=x_away.merge(MatchAwayTeamInfo, how=\"left\", left_on=\"match_id\", right_on=\"match_id\")[['match_id','winner_code','player_id','slug']]\n",
    "final_home=x_home.merge(MatchHomeTeamInfo, how=\"left\", left_on=\"match_id\", right_on=\"match_id\")[['match_id','winner_code','player_id','slug']]\n",
    "final_away=final_away.groupby(by=['player_id','slug'], as_index=False).agg(no_awaywin=(\"winner_code\",\"count\"))\n",
    "final_home=final_home.groupby(by=['player_id','slug'], as_index=False).agg(no_homewin=(\"winner_code\",\"count\"))\n",
    "final=final_away.merge(final_home,how='outer')\n",
    "final\n",
    "final=final.fillna(0)\n",
    "final['total_win']=final['no_awaywin']+final['no_homewin']\n",
    "final=final.groupby(by=['player_id','slug'], as_index=False).agg(total=(\"total_win\",\"sum\"))\n",
    "finalq1=final.sort_values('total',ascending=False, ignore_index=True)\n",
    "finalq1"
   ]
  },
  {
   "cell_type": "markdown",
   "metadata": {},
   "source": [
    "# 4. What is the longest match recorded in terms of duration? "
   ]
  },
  {
   "cell_type": "markdown",
   "metadata": {},
   "source": [
    "Calculating the total duration for each match"
   ]
  },
  {
   "cell_type": "code",
   "execution_count": 34,
   "metadata": {},
   "outputs": [
    {
     "name": "stderr",
     "output_type": "stream",
     "text": [
      "C:\\Users\\fz\\AppData\\Local\\Temp\\ipykernel_3912\\193850644.py:1: FutureWarning: Downcasting object dtype arrays on .fillna, .ffill, .bfill is deprecated and will change in a future version. Call result.infer_objects(copy=False) instead. To opt-in to the future behavior, set `pd.set_option('future.no_silent_downcasting', True)`\n",
      "  MatchTimeInfo.fillna(0,inplace=True)\n"
     ]
    }
   ],
   "source": [
    "MatchTimeInfo.fillna(0,inplace=True)\n",
    "MatchTimeInfo['sum_periods'] = MatchTimeInfo.apply(lambda row: row['period_1'] + row['period_2'] + row['period_3'] +row['period_4'] + row['period_5'], axis=1)"
   ]
  },
  {
   "cell_type": "markdown",
   "metadata": {},
   "source": [
    "Finding the match with the maximum total duration"
   ]
  },
  {
   "cell_type": "code",
   "execution_count": 35,
   "metadata": {},
   "outputs": [
    {
     "name": "stdout",
     "output_type": "stream",
     "text": [
      "maximum time :  12835\n",
      "match_id of match whith maximum time : 11699235\n"
     ]
    }
   ],
   "source": [
    "sum_periods_max = MatchTimeInfo['sum_periods'].max()\n",
    "print('maximum time : ', sum_periods_max)\n",
    "longest_match_index = MatchTimeInfo['sum_periods'].idxmax()\n",
    "longest_match = MatchTimeInfo.loc[longest_match_index ].\n",
    "print('match_id of match whith maximum time :',MatchTimeInfo.loc[longest_match_index ]['match_id'])"
   ]
  },
  {
   "cell_type": "markdown",
   "metadata": {},
   "source": [
    "Drawing a bar plot for the match with the maximum total duration"
   ]
  },
  {
   "cell_type": "code",
   "execution_count": 36,
   "metadata": {},
   "outputs": [
    {
     "data": {
      "image/png": "[encoded data removed]",
      "text/plain": [
       "<Figure size 800x600 with 1 Axes>"
      ]
     },
     "metadata": {},
     "output_type": "display_data"
    }
   ],
   "source": [
    "# Drawing a bar plot\n",
    "plt.figure(figsize=(8, 6))\n",
    "colors = ['orange','orangered','darkred','black']\n",
    "period = ['Period 1', 'Period 2' , 'Period 3', 'Period 4', 'Period 5']\n",
    "plt.barh(period, longest_match.values[1:6], color=colors)\n",
    "plt.title('Longest Match Duration in Tennis Matches',fontweight='bold',loc='left',color='grey')\n",
    "plt.xlabel('Duration(seconds)',fontsize=10,fontweight='bold',loc='left',color='grey')\n",
    "plt.ylabel('Period',fontsize=10,fontweight='bold',loc='bottom',color='grey')\n",
    "plt.tight_layout()\n",
    "plt.xticks(rotation=360)\n",
    "plt.gca().spines['top'].set_color('white')\n",
    "plt.gca().spines['bottom'].set_color('grey')\n",
    "plt.gca().spines['left'].set_color('grey')\n",
    "plt.gca().spines['right'].set_color('white')\n",
    "plt.tick_params(axis='x',colors='grey')\n",
    "plt.tick_params(axis='y',colors='grey')\n",
    "plt.show()"
   ]
  },
  {
   "cell_type": "markdown",
   "metadata": {},
   "source": [
    "# 5. How many sets are typically played in a tennis match? "
   ]
  },
  {
   "cell_type": "code",
   "execution_count": 9,
   "metadata": {},
   "outputs": [
    {
     "data": {
      "text/plain": [
       "2.0"
      ]
     },
     "execution_count": 9,
     "metadata": {},
     "output_type": "execute_result"
    }
   ],
   "source": [
    "gamesInfo = GameInfo[[\"match_id\", \"set_id\"]]\n",
    "\n",
    "gamesInfo = gamesInfo.drop_duplicates(ignore_index=True)\n",
    "\n",
    "gamesInfo.groupby([\"match_id\"]).count().median()[\"set_id\"]"
   ]
  },
  {
   "cell_type": "code",
   "execution_count": 10,
   "metadata": {},
   "outputs": [
    {
     "data": {
      "text/plain": [
       "sets\n",
       "0      3\n",
       "1      4\n",
       "2    551\n",
       "3    181\n",
       "Name: sets, dtype: int64"
      ]
     },
     "execution_count": 10,
     "metadata": {},
     "output_type": "execute_result"
    }
   ],
   "source": [
    "# Get games data\n",
    "away = MatchAwayScoreInfo[[\"match_id\", \"display_score\"]]\n",
    "home = MatchHomeScoreInfo[[\"match_id\", \"display_score\"]]\n",
    "\n",
    "# Merge Games info\n",
    "df = pd.merge(home, away, on=[\"match_id\"], suffixes=(\"_home\", \"_away\"))\n",
    "\n",
    "# Count sets\n",
    "df.loc[:, \"sets\"] = df.loc[:, \"display_score_home\"] + df.loc[:, \"display_score_away\"]\n",
    "\n",
    "# Prepare for final resault\n",
    "df = df.dropna()\n",
    "# x = df[df[\"sets\"] > 1]\n",
    "\n",
    "# Count sets \n",
    "df.groupby(\"sets\")[\"sets\"].count()"
   ]
  },
  {
   "cell_type": "markdown",
   "metadata": {},
   "source": [
    "# 6. Which country has produced the most successful tennis players? "
   ]
  },
  {
   "cell_type": "code",
   "execution_count": 167,
   "metadata": {},
   "outputs": [
    {
     "data": {
      "text/html": [
       "<div>\n",
       "<style scoped>\n",
       "    .dataframe tbody tr th:only-of-type {\n",
       "        vertical-align: middle;\n",
       "    }\n",
       "\n",
       "    .dataframe tbody tr th {\n",
       "        vertical-align: top;\n",
       "    }\n",
       "\n",
       "    .dataframe thead th {\n",
       "        text-align: right;\n",
       "    }\n",
       "</style>\n",
       "<table border=\"1\" class=\"dataframe\">\n",
       "  <thead>\n",
       "    <tr style=\"text-align: right;\">\n",
       "      <th></th>\n",
       "      <th>country</th>\n",
       "      <th>gender</th>\n",
       "      <th>Player_No</th>\n",
       "      <th>Player_No_total</th>\n",
       "    </tr>\n",
       "  </thead>\n",
       "  <tbody>\n",
       "    <tr>\n",
       "      <th>0</th>\n",
       "      <td>Czech Republic</td>\n",
       "      <td>F</td>\n",
       "      <td>7</td>\n",
       "      <td>9</td>\n",
       "    </tr>\n",
       "    <tr>\n",
       "      <th>1</th>\n",
       "      <td>Czech Republic</td>\n",
       "      <td>M</td>\n",
       "      <td>2</td>\n",
       "      <td>9</td>\n",
       "    </tr>\n",
       "    <tr>\n",
       "      <th>2</th>\n",
       "      <td>USA</td>\n",
       "      <td>F</td>\n",
       "      <td>7</td>\n",
       "      <td>8</td>\n",
       "    </tr>\n",
       "    <tr>\n",
       "      <th>3</th>\n",
       "      <td>USA</td>\n",
       "      <td>M</td>\n",
       "      <td>1</td>\n",
       "      <td>8</td>\n",
       "    </tr>\n",
       "    <tr>\n",
       "      <th>4</th>\n",
       "      <td>Russia</td>\n",
       "      <td>F</td>\n",
       "      <td>5</td>\n",
       "      <td>6</td>\n",
       "    </tr>\n",
       "    <tr>\n",
       "      <th>5</th>\n",
       "      <td>Russia</td>\n",
       "      <td>M</td>\n",
       "      <td>1</td>\n",
       "      <td>6</td>\n",
       "    </tr>\n",
       "    <tr>\n",
       "      <th>6</th>\n",
       "      <td>China</td>\n",
       "      <td>F</td>\n",
       "      <td>5</td>\n",
       "      <td>5</td>\n",
       "    </tr>\n",
       "    <tr>\n",
       "      <th>7</th>\n",
       "      <td>France</td>\n",
       "      <td>F</td>\n",
       "      <td>1</td>\n",
       "      <td>5</td>\n",
       "    </tr>\n",
       "    <tr>\n",
       "      <th>8</th>\n",
       "      <td>France</td>\n",
       "      <td>M</td>\n",
       "      <td>4</td>\n",
       "      <td>5</td>\n",
       "    </tr>\n",
       "    <tr>\n",
       "      <th>9</th>\n",
       "      <td>Italy</td>\n",
       "      <td>F</td>\n",
       "      <td>1</td>\n",
       "      <td>3</td>\n",
       "    </tr>\n",
       "    <tr>\n",
       "      <th>10</th>\n",
       "      <td>Italy</td>\n",
       "      <td>M</td>\n",
       "      <td>2</td>\n",
       "      <td>3</td>\n",
       "    </tr>\n",
       "  </tbody>\n",
       "</table>\n",
       "</div>"
      ],
      "text/plain": [
       "           country gender  Player_No  Player_No_total\n",
       "0   Czech Republic      F          7                9\n",
       "1   Czech Republic      M          2                9\n",
       "2              USA      F          7                8\n",
       "3              USA      M          1                8\n",
       "4           Russia      F          5                6\n",
       "5           Russia      M          1                6\n",
       "6            China      F          5                5\n",
       "7           France      F          1                5\n",
       "8           France      M          4                5\n",
       "9            Italy      F          1                3\n",
       "10           Italy      M          2                3"
      ]
     },
     "execution_count": 167,
     "metadata": {},
     "output_type": "execute_result"
    }
   ],
   "source": [
    "#creating a dataframe consisting all players\n",
    "whole_teaminfo=pd.concat([MatchHomeTeamInfo,MatchAwayTeamInfo],axis=0, ignore_index=True)\n",
    "\n",
    "#drop those with unknown ranking\n",
    "whole_teaminfo=whole_teaminfo.dropna(subset='current_rank')\n",
    "\n",
    "# #choose top 100 player and drop duplicates \n",
    "whole_teaminfo=whole_teaminfo[whole_teaminfo['current_rank']<101]\n",
    "whole_teaminfo=whole_teaminfo.drop_duplicates(subset='player_id')\n",
    "\n",
    "# #calculating the number of players in each country based on gender\n",
    "df1=whole_teaminfo.groupby(['country','gender'],as_index=False).agg(Player_No=('player_id','count'))\n",
    "df2=whole_teaminfo.groupby(['country'],as_index=False).agg(Player_No_total=('player_id','count'))\n",
    "results=df1.merge(df2, on='country', how='left')\n",
    "results=results.sort_values('Player_No_total',ignore_index=True, ascending=False,kind='mergesort')\n",
    "results.head(11)\n"
   ]
  },
  {
   "cell_type": "code",
   "execution_count": 18,
   "metadata": {},
   "outputs": [
    {
     "data": {
      "image/png": "[encoded data removed]",
      "text/plain": [
       "<Figure size 1200x500 with 1 Axes>"
      ]
     },
     "metadata": {},
     "output_type": "display_data"
    }
   ],
   "source": [
    "#using top rows to draw the plot\n",
    "q6df=results.head(11)\n",
    "fig6, (ax6)= plt.subplots(figsize = (12, 5))\n",
    "\n",
    "ax6.bar(q6df[q6df['gender']=='F']['country'], q6df[q6df['gender']=='F']['Player_No_total'], color ='pink', \n",
    "        width = 0.4, alpha=1)\n",
    "ax6.bar(q6df[q6df['gender']=='M']['country'], q6df[q6df['gender']=='M']['Player_No'], color ='blue', \n",
    "        width = 0.4,alpha=0.5)\n",
    "\n",
    "ax6.set_title(\n",
    "    \"TOP Countries With The Most Successful Players\",\n",
    "    weight=\"bold\",\n",
    "    color=\"gray\",\n",
    "    fontsize=10,\n",
    "    loc=\"left\",\n",
    ")\n",
    "ax6.spines[[\"right\", \"top\"]].set_visible(False)\n",
    "ax6.tick_params(axis=\"x\", colors=\"gray\", labelsize=\"large\")\n",
    "ax6.tick_params(axis=\"y\", colors=\"gray\", labelsize=\"large\")"
   ]
  },
  {
   "cell_type": "markdown",
   "metadata": {},
   "source": [
    "\n",
    "To answer the question we first should define who is a successful player. we decide that those with higher ranks despite their recent matches are the best candidate.\n",
    "as we know top 100 ranks data are more available for females so we dicide to report our analysis based on gender too."
   ]
  },
  {
   "cell_type": "markdown",
   "metadata": {},
   "source": [
    " # 7. What is the average number of aces per match? "
   ]
  },
  {
   "cell_type": "markdown",
   "metadata": {},
   "source": [
    "cleaning period table  by just selecting rows with _statistic name_ ,`Aces`, and _period_ `All`( it represents the entire match stats)\n",
    "\n",
    "\n",
    "\n",
    "` Match` A contest between two players (singles match) or two teams of players (doubles match), normally played as the best of three or five sets.\n",
    "\n",
    "` Set `  A unit of scoring. A set consists of games and the first player to win six games with a two-game advantage wins the set.\n",
    "\n",
    "`Game`  A game consists of a sequence of points played with the same player serving and is a segment of a set.\n",
    "\n",
    "`Point`  A point in tennis is the smallest subdivision of the match.\n",
    "\n",
    "`Ace`   In tennis, an ace is a legal serve that is not touched by the receiver, winning the point for the server.\n"
   ]
  },
  {
   "cell_type": "code",
   "execution_count": 111,
   "metadata": {},
   "outputs": [
    {
     "name": "stdout",
     "output_type": "stream",
     "text": [
      "average number of aces per match : 4.816091954022989\n"
     ]
    },
    {
     "name": "stderr",
     "output_type": "stream",
     "text": [
      "C:\\Users\\fz\\AppData\\Local\\Temp\\ipykernel_18772\\3681608745.py:2: SettingWithCopyWarning: \n",
      "A value is trying to be set on a copy of a slice from a DataFrame.\n",
      "Try using .loc[row_indexer,col_indexer] = value instead\n",
      "\n",
      "See the caveats in the documentation: https://pandas.pydata.org/pandas-docs/stable/user_guide/indexing.html#returning-a-view-versus-a-copy\n",
      "  period[['home_stat', 'away_stat']] = period[['home_stat', 'away_stat']].astype('Int64')\n",
      "C:\\Users\\fz\\AppData\\Local\\Temp\\ipykernel_18772\\3681608745.py:3: SettingWithCopyWarning: \n",
      "A value is trying to be set on a copy of a slice from a DataFrame.\n",
      "Try using .loc[row_indexer,col_indexer] = value instead\n",
      "\n",
      "See the caveats in the documentation: https://pandas.pydata.org/pandas-docs/stable/user_guide/indexing.html#returning-a-view-versus-a-copy\n",
      "  period['sum'] = period[['home_stat', 'away_stat']].sum(axis=1)\n"
     ]
    },
    {
     "data": {
      "image/png": "[encoded data removed]",
      "text/plain": [
       "<Figure size 640x480 with 1 Axes>"
      ]
     },
     "metadata": {},
     "output_type": "display_data"
    }
   ],
   "source": [
    "\n",
    "\n",
    "period=PeriodInfo.loc[(PeriodInfo['statistic_name']=='aces') & (PeriodInfo[\"period\"]==\"ALL\")]\n",
    "period[['home_stat', 'away_stat']] = period[['home_stat', 'away_stat']].astype('Int64')\n",
    "period['sum'] = period[['home_stat', 'away_stat']].sum(axis=1)\n",
    "period =period[period[\"sum\"]!= 0].reset_index().drop(\"index\", axis=1)\n",
    "period =period.dropna(axis=1 , how=\"all\")\n",
    "print(f\"average number of aces per match : {period[\"sum\"].mean()}\")\n",
    "\n",
    "fig =plt.figure()\n",
    "ax = plt.axes()\n",
    "plt.hist(period[\"sum\"] , bins=10 ,color=\"#69C803\", edgecolor=\"#6BC708\" , alpha=0.7)\n",
    "ax.axvline(period[\"sum\"].mean(), color='#3C3C3C', linestyle='dashed', linewidth=2 , label=\"mean\")\n",
    "ax.spines[[\"top\" , \"right\"]].set_visible(False)\n",
    "ax.spines[['bottom' , 'left']].set_color('gray')\n",
    "ax.grid(axis=\"y\" ,linestyle=\"--\" , color=\"white\" , alpha=.4 )\n",
    "ax.set_title(\"Distribution  of Aces per Match \", weight=\"bold\", fontsize=\"10\",  color=\"#6D6D6D\",  loc=\"left\",y=1.02 ,alpha=.7)\n",
    "ax.set_xlabel(\"Ace\" ,loc=\"left\", color=\"#6D6D6D\" ,weight=\"bold\" , alpha=.7)\n",
    "ax.tick_params(axis=\"x\" , colors=\"#6D6D6D\", labelsize=10 )\n",
    "ax.tick_params(axis=\"y\" , colors=\"#6D6D6D\", labelsize=10 )\n",
    "\n",
    "\n",
    "plt.show()\n",
    "\n"
   ]
  },
  {
   "cell_type": "markdown",
   "metadata": {},
   "source": [
    "The chart shows the number of aces which both sides of the game (away and home) hit in each match .\n",
    "\n",
    "On average , players get `almost 5 aces per match.`"
   ]
  },
  {
   "cell_type": "markdown",
   "metadata": {},
   "source": [
    "# 8. Is there a difference in the number of double faults based on gender? "
   ]
  },
  {
   "cell_type": "markdown",
   "metadata": {},
   "source": [
    "creating tables of both teams  and merging them with Period table which contains all information about points in games"
   ]
  },
  {
   "cell_type": "code",
   "execution_count": 125,
   "metadata": {},
   "outputs": [
    {
     "data": {
      "image/png": "[encoded data removed]",
      "text/plain": [
       "<Figure size 640x480 with 1 Axes>"
      ]
     },
     "metadata": {},
     "output_type": "display_data"
    },
    {
     "data": {
      "text/plain": [
       "TtestResult(statistic=4.027386603188488, pvalue=7.103697548198314e-05, df=309.0)"
      ]
     },
     "execution_count": 125,
     "metadata": {},
     "output_type": "execute_result"
    }
   ],
   "source": [
    "home_subdf=MatchHomeTeamInfo[['match_id','gender','player_id']]\n",
    "away_subdf=MatchAwayTeamInfo[['match_id','gender','player_id']]\n",
    "\n",
    "period_subdf=PeriodInfo[(PeriodInfo['statistic_name']=='double_faults') & (PeriodInfo['period']=='ALL')]\n",
    "\n",
    "home_subdf=period_subdf.merge(home_subdf,left_on='match_id',right_on='match_id',how='left')\n",
    "home_subdf=home_subdf[['match_id','home_value','gender','player_id']]\n",
    "away_subdf=period_subdf.merge(away_subdf,left_on='match_id',right_on='match_id',how='left')\n",
    "away_subdf=away_subdf[['match_id','away_value','gender','player_id']]\n",
    "\n",
    "away_subdf=away_subdf.dropna(subset='gender')\n",
    "home_subdf=home_subdf.dropna(subset='gender')\n",
    "\n",
    "home_subdf=home_subdf.rename(columns={'home_value':'doublefault_no'})\n",
    "away_subdf=away_subdf.rename(columns={'away_value':'doublefault_no'})\n",
    "\n",
    "total_double_gender=pd.concat([home_subdf,away_subdf],axis=0,ignore_index=True)\n",
    "total_double_gender.groupby('gender')['doublefault_no'].sum()\n",
    "\n",
    "female = total_double_gender[total_double_gender['gender']=='F']\n",
    "male = total_double_gender[total_double_gender['gender']=='M']\n",
    "\n",
    "cat_female = total_double_gender[total_double_gender['gender']=='F'][\"doublefault_no\"].value_counts()\n",
    "cat_male = total_double_gender[total_double_gender['gender']=='M'][\"doublefault_no\"].value_counts()\n",
    "\n",
    "\n",
    "\n",
    "fig =plt.figure()\n",
    "ax = plt.axes()\n",
    "plt.bar(range(len(cat_female)), cat_female, align='edge', width=0.55, label='Female' , color='#AB569F' , alpha= .6 , edgecolor='white')\n",
    "plt.bar(range(len(cat_male)), cat_male, align='edge', width=-0.55, label='male', color='#000080' , alpha= .7 )\n",
    "\n",
    "plt.xticks(np.arange(len(cat_female)), rotation=0)\n",
    "plt.title(\"matches based on different number of double faults \" ,  weight=\"bold\", fontsize=\"10\",  color=\"#6D6D6D\",  loc=\"left\",y=1.02 ,alpha=.7)\n",
    "ax.spines[[\"top\" , \"right\"]].set_visible(False)\n",
    "ax.spines[['bottom' , 'left']].set_color('gray')\n",
    "ax.grid(axis=\"y\" ,linestyle=\"--\" , color=\"white\" , alpha=.3 )\n",
    "ax.set_xlabel(\"Ace\" ,loc=\"left\", color=\"#6D6D6D\" ,weight=\"bold\" , alpha=.7)\n",
    "ax.tick_params(axis=\"x\" , colors=\"#6D6D6D\", labelsize=10 )\n",
    "ax.tick_params(axis=\"y\" , colors=\"#6D6D6D\", labelsize=10 )\n",
    "plt.legend()\n",
    "plt.show()\n",
    "\n",
    "ttest_ind(female['doublefault_no'], male['doublefault_no'])"
   ]
  },
  {
   "cell_type": "markdown",
   "metadata": {},
   "source": [
    "# 9. Which player has won the most tournaments in a single month? "
   ]
  },
  {
   "cell_type": "markdown",
   "metadata": {},
   "source": [
    "Selecting all the final matches"
   ]
  },
  {
   "cell_type": "code",
   "execution_count": 13,
   "metadata": {},
   "outputs": [],
   "source": [
    "final_matches = MatchRoundInfo[MatchRoundInfo['name'] == 'Final']\n",
    "merged_df= pd.merge(final_matches,MatchEventInfo,on = \"match_id\",how=\"inner\")\n",
    "\n",
    "# final_matches\n",
    "# merged_df"
   ]
  },
  {
   "cell_type": "markdown",
   "metadata": {},
   "source": [
    "Seprating winners at home and winners away"
   ]
  },
  {
   "cell_type": "code",
   "execution_count": 14,
   "metadata": {},
   "outputs": [],
   "source": [
    "home_winner = merged_df[merged_df['winner_code'] == 1]\n",
    "\n",
    "away_winner = merged_df[merged_df['winner_code'] == 2]\n",
    "\n",
    "# home_winner\n",
    "# away_winner\n"
   ]
  },
  {
   "cell_type": "markdown",
   "metadata": {},
   "source": [
    "Extracting necessary columns from the new DataFrame"
   ]
  },
  {
   "cell_type": "code",
   "execution_count": 6,
   "metadata": {},
   "outputs": [
    {
     "data": {
      "text/html": [
       "<div>\n",
       "<style scoped>\n",
       "    .dataframe tbody tr th:only-of-type {\n",
       "        vertical-align: middle;\n",
       "    }\n",
       "\n",
       "    .dataframe tbody tr th {\n",
       "        vertical-align: top;\n",
       "    }\n",
       "\n",
       "    .dataframe thead th {\n",
       "        text-align: right;\n",
       "    }\n",
       "</style>\n",
       "<table border=\"1\" class=\"dataframe\">\n",
       "  <thead>\n",
       "    <tr style=\"text-align: right;\">\n",
       "      <th></th>\n",
       "      <th>match_id</th>\n",
       "      <th>name</th>\n",
       "      <th>winner_code</th>\n",
       "      <th>start_datetime</th>\n",
       "    </tr>\n",
       "  </thead>\n",
       "  <tbody>\n",
       "    <tr>\n",
       "      <th>1</th>\n",
       "      <td>11673993</td>\n",
       "      <td>Final</td>\n",
       "      <td>2</td>\n",
       "      <td>1696154400</td>\n",
       "    </tr>\n",
       "    <tr>\n",
       "      <th>2</th>\n",
       "      <td>11674011</td>\n",
       "      <td>Final</td>\n",
       "      <td>2</td>\n",
       "      <td>1696172400</td>\n",
       "    </tr>\n",
       "    <tr>\n",
       "      <th>5</th>\n",
       "      <td>11698055</td>\n",
       "      <td>Final</td>\n",
       "      <td>2</td>\n",
       "      <td>1696122000</td>\n",
       "    </tr>\n",
       "    <tr>\n",
       "      <th>6</th>\n",
       "      <td>11698379</td>\n",
       "      <td>Final</td>\n",
       "      <td>2</td>\n",
       "      <td>1696143600</td>\n",
       "    </tr>\n",
       "    <tr>\n",
       "      <th>8</th>\n",
       "      <td>11698476</td>\n",
       "      <td>Final</td>\n",
       "      <td>2</td>\n",
       "      <td>1696150200</td>\n",
       "    </tr>\n",
       "  </tbody>\n",
       "</table>\n",
       "</div>"
      ],
      "text/plain": [
       "   match_id   name winner_code  start_datetime\n",
       "1  11673993  Final           2      1696154400\n",
       "2  11674011  Final           2      1696172400\n",
       "5  11698055  Final           2      1696122000\n",
       "6  11698379  Final           2      1696143600\n",
       "8  11698476  Final           2      1696150200"
      ]
     },
     "execution_count": 6,
     "metadata": {},
     "output_type": "execute_result"
    }
   ],
   "source": [
    "selecte_columns = ['match_id','name', 'winner_code','start_datetime']\n",
    "new_df_away_winners = away_winner[selecte_columns]\n",
    "new_df_home_winners = home_winner[selecte_columns]\n",
    "new_df_away_winners.head(5)"
   ]
  },
  {
   "cell_type": "markdown",
   "metadata": {},
   "source": [
    "Merging two DataFrames and select necessary columns for away winners"
   ]
  },
  {
   "cell_type": "code",
   "execution_count": 7,
   "metadata": {},
   "outputs": [
    {
     "name": "stdout",
     "output_type": "stream",
     "text": [
      "    match_id name_x winner_code  start_datetime           name_y  player_id  \\\n",
      "0   11673993  Final           2      1696154400  Roca Batalla O.      51100   \n",
      "1   11674011  Final           2      1696172400      Shelbayh A.     307383   \n",
      "2   11698055  Final           2      1696122000            Ma Y.     190950   \n",
      "3   11698379  Final           2      1696143600        Safwat M.      42029   \n",
      "4   11698476  Final           2      1696150200        Gaubas V.     322022   \n",
      "5   11698477  Final           2      1696148400      Martynov D.     288575   \n",
      "6   11698544  Final           2      1696143600         Tabur C.     206602   \n",
      "7   11698550  Final           2      1696154100       Paulson A.     275467   \n",
      "8   11698735  Final           2      1696149000    Bartunkova N.     348987   \n",
      "9   11698749  Final           2      1696150800    Gjorcheska L.      67743   \n",
      "10  11698861  Final           2      1696163400        Glinka D.     210033   \n",
      "11  11699173  Final           2      1696165200  Guillen Meza A.     269909   \n",
      "12  11699361  Final           2      1696179600         Draxl L.     223513   \n",
      "\n",
      "   name_code          country             full_name  \n",
      "0        ROC            Spain   Roca Batalla, Oriol  \n",
      "1        SHE           Jordan   Shelbayh, Abedallah  \n",
      "2        YEX            China             Ma, Yexin  \n",
      "3        SAF            Egypt       Safwat, Mohamed  \n",
      "4        GAU        Lithuania        Gaubas, Vilius  \n",
      "5        MAR           France       Martynov, Diana  \n",
      "6        TAB           France        Tabur, Clement  \n",
      "7        PAU   Czech Republic       Paulson, Andrew  \n",
      "8        BAR   Czech Republic    Bartunkova, Nikola  \n",
      "9        GJO  North Macedonia      Gjorcheska, Lina  \n",
      "10       GLI          Estonia        Glinka, Daniil  \n",
      "11       GUI          Ecuador  Guillen Meza, Alvaro  \n",
      "12       DRA           Canada           Draxl, Liam  \n"
     ]
    }
   ],
   "source": [
    "merged_df_= pd.merge(new_df_away_winners ,MatchAwayTeamInfo,on = \"match_id\",how=\"inner\")\n",
    "selecte_columns_= ['match_id','name_x', 'winner_code','start_datetime','name_y','player_id','name_code','country', 'full_name']\n",
    "df_away_team= merged_df_[selecte_columns_]\n",
    "print(df_away_team)"
   ]
  },
  {
   "cell_type": "markdown",
   "metadata": {},
   "source": [
    "Merging two DataFrames and select necessary columns for home winners"
   ]
  },
  {
   "cell_type": "code",
   "execution_count": 8,
   "metadata": {},
   "outputs": [
    {
     "name": "stdout",
     "output_type": "stream",
     "text": [
      "   match_id name_x winner_code  start_datetime               name_y  \\\n",
      "0  11673962  Final           1      1696176000           Tirante T.   \n",
      "1  11674032  Final           1      1696171500            Machač T.   \n",
      "2  11674074  Final           1      1696129200       Kudermetova V.   \n",
      "3  11698403  Final           1      1696143600             Kubka M.   \n",
      "4  11698683  Final           1      1696149000       Cid Subervi R.   \n",
      "5  11698757  Final           1      1696154400  Guerrero Álvarez E.   \n",
      "6  11699097  Final           1      1696165200       Janicijevic S.   \n",
      "7  11699296  Final           1      1696168500           Biolay  S.   \n",
      "8  11699386  Final           1      1696189200          Townsend T.   \n",
      "\n",
      "   player_id name_code             country                full_name  \n",
      "0     221515       TIR           Argentina  Tirante, Thiago Agustin  \n",
      "1     238300       MAC      Czech Republic            Machač, Tomáš  \n",
      "2      66968       KUD              Russia    Kudermetova, Veronika  \n",
      "3     294815       KUB              Poland           Kubka, Martyna  \n",
      "4      51309       CID  Dominican Republic     Cid Subervi, Roberto  \n",
      "5     132414       GUE               Spain    Guerrero Alvarez, Eva  \n",
      "6     299619       JAN              France      Janicijevic, Selena  \n",
      "7     292051       BIO              France           Biolay, Sophia  \n",
      "8      51387       TOW                 USA         Townsend, Taylor  \n"
     ]
    }
   ],
   "source": [
    "merged_df_home= pd.merge(new_df_home_winners,MatchHomeTeamInfo,on = \"match_id\",how=\"inner\")\n",
    "selecte_columns_home= ['match_id','name_x', 'winner_code','start_datetime','name_y','player_id','name_code','country', 'full_name']\n",
    "df_home_team = merged_df_home[selecte_columns_home]\n",
    "print(df_home_team)"
   ]
  },
  {
   "cell_type": "markdown",
   "metadata": {},
   "source": [
    "All the winners"
   ]
  },
  {
   "cell_type": "code",
   "execution_count": 9,
   "metadata": {},
   "outputs": [
    {
     "data": {
      "text/html": [
       "<div>\n",
       "<style scoped>\n",
       "    .dataframe tbody tr th:only-of-type {\n",
       "        vertical-align: middle;\n",
       "    }\n",
       "\n",
       "    .dataframe tbody tr th {\n",
       "        vertical-align: top;\n",
       "    }\n",
       "\n",
       "    .dataframe thead th {\n",
       "        text-align: right;\n",
       "    }\n",
       "</style>\n",
       "<table border=\"1\" class=\"dataframe\">\n",
       "  <thead>\n",
       "    <tr style=\"text-align: right;\">\n",
       "      <th></th>\n",
       "      <th>match_id</th>\n",
       "      <th>name_x</th>\n",
       "      <th>winner_code</th>\n",
       "      <th>start_datetime</th>\n",
       "      <th>name_y</th>\n",
       "      <th>player_id</th>\n",
       "      <th>name_code</th>\n",
       "      <th>country</th>\n",
       "      <th>full_name</th>\n",
       "    </tr>\n",
       "  </thead>\n",
       "  <tbody>\n",
       "    <tr>\n",
       "      <th>0</th>\n",
       "      <td>11673962</td>\n",
       "      <td>Final</td>\n",
       "      <td>1</td>\n",
       "      <td>1696176000</td>\n",
       "      <td>Tirante T.</td>\n",
       "      <td>221515</td>\n",
       "      <td>TIR</td>\n",
       "      <td>Argentina</td>\n",
       "      <td>Tirante, Thiago Agustin</td>\n",
       "    </tr>\n",
       "    <tr>\n",
       "      <th>1</th>\n",
       "      <td>11674032</td>\n",
       "      <td>Final</td>\n",
       "      <td>1</td>\n",
       "      <td>1696171500</td>\n",
       "      <td>Machač T.</td>\n",
       "      <td>238300</td>\n",
       "      <td>MAC</td>\n",
       "      <td>Czech Republic</td>\n",
       "      <td>Machač, Tomáš</td>\n",
       "    </tr>\n",
       "    <tr>\n",
       "      <th>2</th>\n",
       "      <td>11674074</td>\n",
       "      <td>Final</td>\n",
       "      <td>1</td>\n",
       "      <td>1696129200</td>\n",
       "      <td>Kudermetova V.</td>\n",
       "      <td>66968</td>\n",
       "      <td>KUD</td>\n",
       "      <td>Russia</td>\n",
       "      <td>Kudermetova, Veronika</td>\n",
       "    </tr>\n",
       "    <tr>\n",
       "      <th>3</th>\n",
       "      <td>11698403</td>\n",
       "      <td>Final</td>\n",
       "      <td>1</td>\n",
       "      <td>1696143600</td>\n",
       "      <td>Kubka M.</td>\n",
       "      <td>294815</td>\n",
       "      <td>KUB</td>\n",
       "      <td>Poland</td>\n",
       "      <td>Kubka, Martyna</td>\n",
       "    </tr>\n",
       "    <tr>\n",
       "      <th>4</th>\n",
       "      <td>11698683</td>\n",
       "      <td>Final</td>\n",
       "      <td>1</td>\n",
       "      <td>1696149000</td>\n",
       "      <td>Cid Subervi R.</td>\n",
       "      <td>51309</td>\n",
       "      <td>CID</td>\n",
       "      <td>Dominican Republic</td>\n",
       "      <td>Cid Subervi, Roberto</td>\n",
       "    </tr>\n",
       "    <tr>\n",
       "      <th>5</th>\n",
       "      <td>11698757</td>\n",
       "      <td>Final</td>\n",
       "      <td>1</td>\n",
       "      <td>1696154400</td>\n",
       "      <td>Guerrero Álvarez E.</td>\n",
       "      <td>132414</td>\n",
       "      <td>GUE</td>\n",
       "      <td>Spain</td>\n",
       "      <td>Guerrero Alvarez, Eva</td>\n",
       "    </tr>\n",
       "    <tr>\n",
       "      <th>6</th>\n",
       "      <td>11699097</td>\n",
       "      <td>Final</td>\n",
       "      <td>1</td>\n",
       "      <td>1696165200</td>\n",
       "      <td>Janicijevic S.</td>\n",
       "      <td>299619</td>\n",
       "      <td>JAN</td>\n",
       "      <td>France</td>\n",
       "      <td>Janicijevic, Selena</td>\n",
       "    </tr>\n",
       "    <tr>\n",
       "      <th>7</th>\n",
       "      <td>11699296</td>\n",
       "      <td>Final</td>\n",
       "      <td>1</td>\n",
       "      <td>1696168500</td>\n",
       "      <td>Biolay  S.</td>\n",
       "      <td>292051</td>\n",
       "      <td>BIO</td>\n",
       "      <td>France</td>\n",
       "      <td>Biolay, Sophia</td>\n",
       "    </tr>\n",
       "    <tr>\n",
       "      <th>8</th>\n",
       "      <td>11699386</td>\n",
       "      <td>Final</td>\n",
       "      <td>1</td>\n",
       "      <td>1696189200</td>\n",
       "      <td>Townsend T.</td>\n",
       "      <td>51387</td>\n",
       "      <td>TOW</td>\n",
       "      <td>USA</td>\n",
       "      <td>Townsend, Taylor</td>\n",
       "    </tr>\n",
       "    <tr>\n",
       "      <th>9</th>\n",
       "      <td>11673993</td>\n",
       "      <td>Final</td>\n",
       "      <td>2</td>\n",
       "      <td>1696154400</td>\n",
       "      <td>Roca Batalla O.</td>\n",
       "      <td>51100</td>\n",
       "      <td>ROC</td>\n",
       "      <td>Spain</td>\n",
       "      <td>Roca Batalla, Oriol</td>\n",
       "    </tr>\n",
       "    <tr>\n",
       "      <th>10</th>\n",
       "      <td>11674011</td>\n",
       "      <td>Final</td>\n",
       "      <td>2</td>\n",
       "      <td>1696172400</td>\n",
       "      <td>Shelbayh A.</td>\n",
       "      <td>307383</td>\n",
       "      <td>SHE</td>\n",
       "      <td>Jordan</td>\n",
       "      <td>Shelbayh, Abedallah</td>\n",
       "    </tr>\n",
       "    <tr>\n",
       "      <th>11</th>\n",
       "      <td>11698055</td>\n",
       "      <td>Final</td>\n",
       "      <td>2</td>\n",
       "      <td>1696122000</td>\n",
       "      <td>Ma Y.</td>\n",
       "      <td>190950</td>\n",
       "      <td>YEX</td>\n",
       "      <td>China</td>\n",
       "      <td>Ma, Yexin</td>\n",
       "    </tr>\n",
       "    <tr>\n",
       "      <th>12</th>\n",
       "      <td>11698379</td>\n",
       "      <td>Final</td>\n",
       "      <td>2</td>\n",
       "      <td>1696143600</td>\n",
       "      <td>Safwat M.</td>\n",
       "      <td>42029</td>\n",
       "      <td>SAF</td>\n",
       "      <td>Egypt</td>\n",
       "      <td>Safwat, Mohamed</td>\n",
       "    </tr>\n",
       "    <tr>\n",
       "      <th>13</th>\n",
       "      <td>11698476</td>\n",
       "      <td>Final</td>\n",
       "      <td>2</td>\n",
       "      <td>1696150200</td>\n",
       "      <td>Gaubas V.</td>\n",
       "      <td>322022</td>\n",
       "      <td>GAU</td>\n",
       "      <td>Lithuania</td>\n",
       "      <td>Gaubas, Vilius</td>\n",
       "    </tr>\n",
       "    <tr>\n",
       "      <th>14</th>\n",
       "      <td>11698477</td>\n",
       "      <td>Final</td>\n",
       "      <td>2</td>\n",
       "      <td>1696148400</td>\n",
       "      <td>Martynov D.</td>\n",
       "      <td>288575</td>\n",
       "      <td>MAR</td>\n",
       "      <td>France</td>\n",
       "      <td>Martynov, Diana</td>\n",
       "    </tr>\n",
       "    <tr>\n",
       "      <th>15</th>\n",
       "      <td>11698544</td>\n",
       "      <td>Final</td>\n",
       "      <td>2</td>\n",
       "      <td>1696143600</td>\n",
       "      <td>Tabur C.</td>\n",
       "      <td>206602</td>\n",
       "      <td>TAB</td>\n",
       "      <td>France</td>\n",
       "      <td>Tabur, Clement</td>\n",
       "    </tr>\n",
       "    <tr>\n",
       "      <th>16</th>\n",
       "      <td>11698550</td>\n",
       "      <td>Final</td>\n",
       "      <td>2</td>\n",
       "      <td>1696154100</td>\n",
       "      <td>Paulson A.</td>\n",
       "      <td>275467</td>\n",
       "      <td>PAU</td>\n",
       "      <td>Czech Republic</td>\n",
       "      <td>Paulson, Andrew</td>\n",
       "    </tr>\n",
       "    <tr>\n",
       "      <th>17</th>\n",
       "      <td>11698735</td>\n",
       "      <td>Final</td>\n",
       "      <td>2</td>\n",
       "      <td>1696149000</td>\n",
       "      <td>Bartunkova N.</td>\n",
       "      <td>348987</td>\n",
       "      <td>BAR</td>\n",
       "      <td>Czech Republic</td>\n",
       "      <td>Bartunkova, Nikola</td>\n",
       "    </tr>\n",
       "    <tr>\n",
       "      <th>18</th>\n",
       "      <td>11698749</td>\n",
       "      <td>Final</td>\n",
       "      <td>2</td>\n",
       "      <td>1696150800</td>\n",
       "      <td>Gjorcheska L.</td>\n",
       "      <td>67743</td>\n",
       "      <td>GJO</td>\n",
       "      <td>North Macedonia</td>\n",
       "      <td>Gjorcheska, Lina</td>\n",
       "    </tr>\n",
       "    <tr>\n",
       "      <th>19</th>\n",
       "      <td>11698861</td>\n",
       "      <td>Final</td>\n",
       "      <td>2</td>\n",
       "      <td>1696163400</td>\n",
       "      <td>Glinka D.</td>\n",
       "      <td>210033</td>\n",
       "      <td>GLI</td>\n",
       "      <td>Estonia</td>\n",
       "      <td>Glinka, Daniil</td>\n",
       "    </tr>\n",
       "    <tr>\n",
       "      <th>20</th>\n",
       "      <td>11699173</td>\n",
       "      <td>Final</td>\n",
       "      <td>2</td>\n",
       "      <td>1696165200</td>\n",
       "      <td>Guillen Meza A.</td>\n",
       "      <td>269909</td>\n",
       "      <td>GUI</td>\n",
       "      <td>Ecuador</td>\n",
       "      <td>Guillen Meza, Alvaro</td>\n",
       "    </tr>\n",
       "    <tr>\n",
       "      <th>21</th>\n",
       "      <td>11699361</td>\n",
       "      <td>Final</td>\n",
       "      <td>2</td>\n",
       "      <td>1696179600</td>\n",
       "      <td>Draxl L.</td>\n",
       "      <td>223513</td>\n",
       "      <td>DRA</td>\n",
       "      <td>Canada</td>\n",
       "      <td>Draxl, Liam</td>\n",
       "    </tr>\n",
       "  </tbody>\n",
       "</table>\n",
       "</div>"
      ],
      "text/plain": [
       "    match_id name_x winner_code  start_datetime               name_y  \\\n",
       "0   11673962  Final           1      1696176000           Tirante T.   \n",
       "1   11674032  Final           1      1696171500            Machač T.   \n",
       "2   11674074  Final           1      1696129200       Kudermetova V.   \n",
       "3   11698403  Final           1      1696143600             Kubka M.   \n",
       "4   11698683  Final           1      1696149000       Cid Subervi R.   \n",
       "5   11698757  Final           1      1696154400  Guerrero Álvarez E.   \n",
       "6   11699097  Final           1      1696165200       Janicijevic S.   \n",
       "7   11699296  Final           1      1696168500           Biolay  S.   \n",
       "8   11699386  Final           1      1696189200          Townsend T.   \n",
       "9   11673993  Final           2      1696154400      Roca Batalla O.   \n",
       "10  11674011  Final           2      1696172400          Shelbayh A.   \n",
       "11  11698055  Final           2      1696122000                Ma Y.   \n",
       "12  11698379  Final           2      1696143600            Safwat M.   \n",
       "13  11698476  Final           2      1696150200            Gaubas V.   \n",
       "14  11698477  Final           2      1696148400          Martynov D.   \n",
       "15  11698544  Final           2      1696143600             Tabur C.   \n",
       "16  11698550  Final           2      1696154100           Paulson A.   \n",
       "17  11698735  Final           2      1696149000        Bartunkova N.   \n",
       "18  11698749  Final           2      1696150800        Gjorcheska L.   \n",
       "19  11698861  Final           2      1696163400            Glinka D.   \n",
       "20  11699173  Final           2      1696165200      Guillen Meza A.   \n",
       "21  11699361  Final           2      1696179600             Draxl L.   \n",
       "\n",
       "    player_id name_code             country                full_name  \n",
       "0      221515       TIR           Argentina  Tirante, Thiago Agustin  \n",
       "1      238300       MAC      Czech Republic            Machač, Tomáš  \n",
       "2       66968       KUD              Russia    Kudermetova, Veronika  \n",
       "3      294815       KUB              Poland           Kubka, Martyna  \n",
       "4       51309       CID  Dominican Republic     Cid Subervi, Roberto  \n",
       "5      132414       GUE               Spain    Guerrero Alvarez, Eva  \n",
       "6      299619       JAN              France      Janicijevic, Selena  \n",
       "7      292051       BIO              France           Biolay, Sophia  \n",
       "8       51387       TOW                 USA         Townsend, Taylor  \n",
       "9       51100       ROC               Spain      Roca Batalla, Oriol  \n",
       "10     307383       SHE              Jordan      Shelbayh, Abedallah  \n",
       "11     190950       YEX               China                Ma, Yexin  \n",
       "12      42029       SAF               Egypt          Safwat, Mohamed  \n",
       "13     322022       GAU           Lithuania           Gaubas, Vilius  \n",
       "14     288575       MAR              France          Martynov, Diana  \n",
       "15     206602       TAB              France           Tabur, Clement  \n",
       "16     275467       PAU      Czech Republic          Paulson, Andrew  \n",
       "17     348987       BAR      Czech Republic       Bartunkova, Nikola  \n",
       "18      67743       GJO     North Macedonia         Gjorcheska, Lina  \n",
       "19     210033       GLI             Estonia           Glinka, Daniil  \n",
       "20     269909       GUI             Ecuador     Guillen Meza, Alvaro  \n",
       "21     223513       DRA              Canada              Draxl, Liam  "
      ]
     },
     "execution_count": 9,
     "metadata": {},
     "output_type": "execute_result"
    }
   ],
   "source": [
    "all_winners = pd.concat([df_home_team,df_away_team],ignore_index=True)\n",
    "all_winners.head(25)"
   ]
  },
  {
   "cell_type": "markdown",
   "metadata": {},
   "source": [
    "Changing the format and adding a month column"
   ]
  },
  {
   "cell_type": "code",
   "execution_count": 10,
   "metadata": {},
   "outputs": [
    {
     "name": "stdout",
     "output_type": "stream",
     "text": [
      "    match_id name_x winner_code      start_datetime               name_y  \\\n",
      "0   11673962  Final           1 2023-10-01 16:00:00           Tirante T.   \n",
      "1   11674032  Final           1 2023-10-01 14:45:00            Machač T.   \n",
      "2   11674074  Final           1 2023-10-01 03:00:00       Kudermetova V.   \n",
      "3   11698403  Final           1 2023-10-01 07:00:00             Kubka M.   \n",
      "4   11698683  Final           1 2023-10-01 08:30:00       Cid Subervi R.   \n",
      "5   11698757  Final           1 2023-10-01 10:00:00  Guerrero Álvarez E.   \n",
      "6   11699097  Final           1 2023-10-01 13:00:00       Janicijevic S.   \n",
      "7   11699296  Final           1 2023-10-01 13:55:00           Biolay  S.   \n",
      "8   11699386  Final           1 2023-10-01 19:40:00          Townsend T.   \n",
      "9   11673993  Final           2 2023-10-01 10:00:00      Roca Batalla O.   \n",
      "10  11674011  Final           2 2023-10-01 15:00:00          Shelbayh A.   \n",
      "11  11698055  Final           2 2023-10-01 01:00:00                Ma Y.   \n",
      "12  11698379  Final           2 2023-10-01 07:00:00            Safwat M.   \n",
      "13  11698476  Final           2 2023-10-01 08:50:00            Gaubas V.   \n",
      "14  11698477  Final           2 2023-10-01 08:20:00          Martynov D.   \n",
      "15  11698544  Final           2 2023-10-01 07:00:00             Tabur C.   \n",
      "16  11698550  Final           2 2023-10-01 09:55:00           Paulson A.   \n",
      "17  11698735  Final           2 2023-10-01 08:30:00        Bartunkova N.   \n",
      "18  11698749  Final           2 2023-10-01 09:00:00        Gjorcheska L.   \n",
      "19  11698861  Final           2 2023-10-01 12:30:00            Glinka D.   \n",
      "20  11699173  Final           2 2023-10-01 13:00:00      Guillen Meza A.   \n",
      "21  11699361  Final           2 2023-10-01 17:00:00             Draxl L.   \n",
      "\n",
      "    player_id name_code             country                full_name  month  \n",
      "0      221515       TIR           Argentina  Tirante, Thiago Agustin     10  \n",
      "1      238300       MAC      Czech Republic            Machač, Tomáš     10  \n",
      "2       66968       KUD              Russia    Kudermetova, Veronika     10  \n",
      "3      294815       KUB              Poland           Kubka, Martyna     10  \n",
      "4       51309       CID  Dominican Republic     Cid Subervi, Roberto     10  \n",
      "5      132414       GUE               Spain    Guerrero Alvarez, Eva     10  \n",
      "6      299619       JAN              France      Janicijevic, Selena     10  \n",
      "7      292051       BIO              France           Biolay, Sophia     10  \n",
      "8       51387       TOW                 USA         Townsend, Taylor     10  \n",
      "9       51100       ROC               Spain      Roca Batalla, Oriol     10  \n",
      "10     307383       SHE              Jordan      Shelbayh, Abedallah     10  \n",
      "11     190950       YEX               China                Ma, Yexin     10  \n",
      "12      42029       SAF               Egypt          Safwat, Mohamed     10  \n",
      "13     322022       GAU           Lithuania           Gaubas, Vilius     10  \n",
      "14     288575       MAR              France          Martynov, Diana     10  \n",
      "15     206602       TAB              France           Tabur, Clement     10  \n",
      "16     275467       PAU      Czech Republic          Paulson, Andrew     10  \n",
      "17     348987       BAR      Czech Republic       Bartunkova, Nikola     10  \n",
      "18      67743       GJO     North Macedonia         Gjorcheska, Lina     10  \n",
      "19     210033       GLI             Estonia           Glinka, Daniil     10  \n",
      "20     269909       GUI             Ecuador     Guillen Meza, Alvaro     10  \n",
      "21     223513       DRA              Canada              Draxl, Liam     10  \n"
     ]
    }
   ],
   "source": [
    "all_winners['start_datetime'] = pd.to_datetime(all_winners['start_datetime'],unit='s')\n",
    "all_winners['month'] = all_winners['start_datetime'].dt.month\n",
    "print(all_winners)"
   ]
  },
  {
   "cell_type": "markdown",
   "metadata": {},
   "source": [
    "Grouping winners based on the month of the match"
   ]
  },
  {
   "cell_type": "code",
   "execution_count": 11,
   "metadata": {},
   "outputs": [
    {
     "name": "stdout",
     "output_type": "stream",
     "text": [
      "month\n",
      "10    22\n",
      "dtype: int64\n"
     ]
    }
   ],
   "source": [
    "grouping = all_winners.groupby('month').size()\n",
    "print(grouping)"
   ]
  },
  {
   "cell_type": "markdown",
   "metadata": {},
   "source": [
    "Grouping winners based on thir names"
   ]
  },
  {
   "cell_type": "code",
   "execution_count": 12,
   "metadata": {},
   "outputs": [
    {
     "name": "stdout",
     "output_type": "stream",
     "text": [
      "full_name\n",
      "Bartunkova, Nikola         1\n",
      "Biolay, Sophia             1\n",
      "Cid Subervi, Roberto       1\n",
      "Draxl, Liam                1\n",
      "Gaubas, Vilius             1\n",
      "Gjorcheska, Lina           1\n",
      "Glinka, Daniil             1\n",
      "Guerrero Alvarez, Eva      1\n",
      "Guillen Meza, Alvaro       1\n",
      "Janicijevic, Selena        1\n",
      "Kubka, Martyna             1\n",
      "Kudermetova, Veronika      1\n",
      "Ma, Yexin                  1\n",
      "Machač, Tomáš              1\n",
      "Martynov, Diana            1\n",
      "Paulson, Andrew            1\n",
      "Roca Batalla, Oriol        1\n",
      "Safwat, Mohamed            1\n",
      "Shelbayh, Abedallah        1\n",
      "Tabur, Clement             1\n",
      "Tirante, Thiago Agustin    1\n",
      "Townsend, Taylor           1\n",
      "dtype: int64\n"
     ]
    }
   ],
   "source": [
    "grouping_= all_winners.groupby('full_name').size()\n",
    "print(grouping_)"
   ]
  },
  {
   "cell_type": "markdown",
   "metadata": {},
   "source": [
    "# 10. Is there a correlation between a player's height and their ranking? "
   ]
  },
  {
   "cell_type": "markdown",
   "metadata": {},
   "source": [
    "as you can see we can't tell there is a relationship between height and rank.<br/>\n",
    "when height goes higher rank data doesn't nessesory raise and also when rank goes up height doesn't increas\n",
    "but we can tell the must of players are between 1.7 and 2 meter long and our highest rank is between 1.8 and 1.9 meter long (like 1.85 meter)"
   ]
  },
  {
   "cell_type": "code",
   "execution_count": 11,
   "metadata": {},
   "outputs": [],
   "source": [
    "plot_feed = players[[\"player_id\", \"gender\", \"height\", \"current_rank\", \"current_prize\"]]\n",
    "plot_feed = plot_feed.dropna()\n",
    "plot_feed[\"height_rank\"] = plot_feed[\"height\"].rank(ascending=False, method='min')\n",
    "men = plot_feed[plot_feed[\"gender\"] == \"M\"]\n",
    "women = plot_feed[plot_feed[\"gender\"] == \"F\"]"
   ]
  },
  {
   "cell_type": "code",
   "execution_count": 12,
   "metadata": {},
   "outputs": [
    {
     "data": {
      "text/html": [
       "<div>\n",
       "<style scoped>\n",
       "    .dataframe tbody tr th:only-of-type {\n",
       "        vertical-align: middle;\n",
       "    }\n",
       "\n",
       "    .dataframe tbody tr th {\n",
       "        vertical-align: top;\n",
       "    }\n",
       "\n",
       "    .dataframe thead th {\n",
       "        text-align: right;\n",
       "    }\n",
       "</style>\n",
       "<table border=\"1\" class=\"dataframe\">\n",
       "  <thead>\n",
       "    <tr style=\"text-align: right;\">\n",
       "      <th></th>\n",
       "      <th></th>\n",
       "      <th>current_rank</th>\n",
       "      <th>height_rank</th>\n",
       "    </tr>\n",
       "    <tr>\n",
       "      <th>gender</th>\n",
       "      <th></th>\n",
       "      <th></th>\n",
       "      <th></th>\n",
       "    </tr>\n",
       "  </thead>\n",
       "  <tbody>\n",
       "    <tr>\n",
       "      <th rowspan=\"2\" valign=\"top\">F</th>\n",
       "      <th>current_rank</th>\n",
       "      <td>1.000000</td>\n",
       "      <td>0.249057</td>\n",
       "    </tr>\n",
       "    <tr>\n",
       "      <th>height_rank</th>\n",
       "      <td>0.249057</td>\n",
       "      <td>1.000000</td>\n",
       "    </tr>\n",
       "    <tr>\n",
       "      <th rowspan=\"2\" valign=\"top\">M</th>\n",
       "      <th>current_rank</th>\n",
       "      <td>1.000000</td>\n",
       "      <td>0.153715</td>\n",
       "    </tr>\n",
       "    <tr>\n",
       "      <th>height_rank</th>\n",
       "      <td>0.153715</td>\n",
       "      <td>1.000000</td>\n",
       "    </tr>\n",
       "  </tbody>\n",
       "</table>\n",
       "</div>"
      ],
      "text/plain": [
       "                     current_rank  height_rank\n",
       "gender                                        \n",
       "F      current_rank      1.000000     0.249057\n",
       "       height_rank       0.249057     1.000000\n",
       "M      current_rank      1.000000     0.153715\n",
       "       height_rank       0.153715     1.000000"
      ]
     },
     "execution_count": 12,
     "metadata": {},
     "output_type": "execute_result"
    }
   ],
   "source": [
    "plot_feed.groupby(\"gender\")[[\"current_rank\", \"height_rank\"]].corr(method=\"spearman\")"
   ]
  },
  {
   "cell_type": "code",
   "execution_count": 13,
   "metadata": {},
   "outputs": [
    {
     "data": {
      "image/png": "[encoded data removed]",
      "text/plain": [
       "<Figure size 640x480 with 1 Axes>"
      ]
     },
     "metadata": {},
     "output_type": "display_data"
    }
   ],
   "source": [
    "plt.scatter(x = men[\"height\"],\n",
    "            y = men[\"current_rank\"],\n",
    "            marker=\".\")\n",
    "\n",
    "plt.xlabel(\"Height\", loc=\"left\", color=\"gray\")\n",
    "plt.ylabel(\"Rank\", loc=\"bottom\", color=\"gray\")\n",
    "plt.subplot().spines[[\"right\", 'top']].set_visible(False);"
   ]
  },
  {
   "cell_type": "code",
   "execution_count": 15,
   "metadata": {},
   "outputs": [
    {
     "data": {
      "image/png": "[encoded data removed]",
      "text/plain": [
       "<Figure size 640x480 with 1 Axes>"
      ]
     },
     "metadata": {},
     "output_type": "display_data"
    }
   ],
   "source": [
    "plt.scatter(x = women[\"height\"],\n",
    "            y = women[\"current_rank\"],\n",
    "            marker=\".\")\n",
    "\n",
    "plt.xlabel(\"Height\", loc=\"left\", color=\"gray\")\n",
    "plt.ylabel(\"Rank\", loc=\"bottom\", color=\"gray\")\n",
    "plt.subplot().spines[[\"right\", 'top']].set_visible(False);"
   ]
  },
  {
   "cell_type": "markdown",
   "metadata": {},
   "source": [
    "# 11. What is the average duration of matches? "
   ]
  },
  {
   "cell_type": "code",
   "execution_count": 46,
   "metadata": {},
   "outputs": [
    {
     "name": "stderr",
     "output_type": "stream",
     "text": [
      "C:\\Users\\fz\\AppData\\Local\\Temp\\ipykernel_19584\\169656349.py:3: FutureWarning: Downcasting object dtype arrays on .fillna, .ffill, .bfill is deprecated and will change in a future version. Call result.infer_objects(copy=False) instead. To opt-in to the future behavior, set `pd.set_option('future.no_silent_downcasting', True)`\n",
      "  time=time.fillna(0)\n"
     ]
    },
    {
     "data": {
      "text/plain": [
       "6032.811912225706"
      ]
     },
     "execution_count": 46,
     "metadata": {},
     "output_type": "execute_result"
    }
   ],
   "source": [
    "# droping those matches with not enough values\n",
    "time=MatchTimeInfo.dropna(subset='period_2')\n",
    "time=time.fillna(0)\n",
    "# calculating the total match time\n",
    "time['total']=time['period_1'] + time['period_2'] + time['period_3']\n",
    "# calculating the mean\n",
    "time['total'].mean()"
   ]
  },
  {
   "cell_type": "code",
   "execution_count": 51,
   "metadata": {},
   "outputs": [
    {
     "data": {
      "image/png": "[encoded data removed]",
      "text/plain": [
       "<Figure size 1200x500 with 1 Axes>"
      ]
     },
     "metadata": {},
     "output_type": "display_data"
    }
   ],
   "source": [
    "df11=time['total']\n",
    "avg= time['total'].mean()\n",
    "median_ =time['total'].median()\n",
    "# sd=time['total'].std()\n",
    "\n",
    "fig11,ax=plt.subplots(figsize = (12, 5))\n",
    "ax.hist(df11, bins=40, density=True , color=\"#BBBBBB\")\n",
    "ax.axvline(avg , color='red', linestyle='dashed', linewidth=1.6 , label=\"mean\")\n",
    "ax.axvline(median_, color='#07C535', linestyle='dashed', linewidth=1.8 , label=\"median\")\n",
    "# ax.axvline(avg+sd, color='blue', linestyle='dashed', linewidth=1.5 , label=\"mean\")\n",
    "# ax.axvline(avg-sd, color='blue', linestyle='dashed', linewidth=1.5 , label=\"mean\")\n",
    "ax.legend()\n",
    "min_, max_ = plt.xlim()\n",
    "plt.xlim(min_, max_)\n",
    "time['total'].plot.kde(color=\"blue\")\n",
    "\n",
    "ax.set_title(\n",
    "    \"Distribution of match duration\",\n",
    "    weight=\"bold\",\n",
    "    color=\"gray\",\n",
    "    fontsize=12,\n",
    "    loc=\"left\",\n",
    ")\n",
    "ax.set_xlabel(\"Time(s)\", loc=\"left\", weight=\"bold\", fontsize=14, color=\"gray\")\n",
    "ax.spines[[\"right\", \"top\"]].set_visible(False)\n",
    "ax.ticklabel_format(axis=\"x\", style=\"plain\")\n",
    "ax.tick_params(axis=\"x\", colors=\"grey\", labelsize=\"large\")\n",
    "ax.tick_params(axis=\"y\", colors=\"gray\", labelsize=\"large\")\n"
   ]
  },
  {
   "cell_type": "markdown",
   "metadata": {},
   "source": [
    "As the default period of all games are 3, we decide to delete those matches that dont contain at least two periods."
   ]
  },
  {
   "cell_type": "markdown",
   "metadata": {},
   "source": [
    "# 12. What is the average number of games per set in men's matches compared to women's matches?"
   ]
  },
  {
   "cell_type": "markdown",
   "metadata": {},
   "source": [
    " Calculating the number of games in each set by adding the values of each period .\n",
    "_each period represents a set_"
   ]
  },
  {
   "cell_type": "code",
   "execution_count": 53,
   "metadata": {},
   "outputs": [],
   "source": [
    "MatchAway_Score = MatchAwayScoreInfo.dropna(axis=1 , how=\"all\").dropna(subset=[ \"period_2\"]).reset_index().drop(\"index\", axis=1)\n",
    "# i didn't consider one-set games\n",
    "MatchHome_Score = MatchHomeScoreInfo.dropna(axis=1 , how=\"all\").dropna(subset=[ \"period_2\"]).reset_index().drop(\"index\", axis=1)\n",
    "\n",
    "MatchAway_Team = MatchAwayTeamInfo.drop(['name', 'user_count', 'residence',\n",
    "       'birthplace', 'height', 'weight', 'plays', 'turned_pro',\n",
    "       'current_prize', 'total_prize',\n",
    "       'name_code', 'country', 'full_name'] , axis=1)\n",
    "\n",
    "MatchHome_Team = MatchHomeTeamInfo.drop(['name', 'user_count', 'residence',\n",
    "       'birthplace', 'height', 'weight', 'plays', 'turned_pro',\n",
    "       'current_prize', 'total_prize',\n",
    "       'name_code', 'country', 'full_name'] , axis=1)\n"
   ]
  },
  {
   "cell_type": "code",
   "execution_count": 54,
   "metadata": {},
   "outputs": [],
   "source": [
    "all_scores= pd.merge(MatchAway_Score, MatchHome_Score, on=\"match_id\")\n",
    "all_scores[\"games_per_set1\"] = all_scores[\"period_1_x\"] +all_scores[\"period_1_y\"]\n",
    "all_scores[\"games_per_set2\"] = all_scores[\"period_2_x\"] +all_scores[\"period_2_y\"]\n",
    "all_scores[\"games_per_set3\"] = all_scores[\"period_3_x\"] +all_scores[\"period_3_y\"]\n",
    "\n",
    "all_scores = all_scores.drop(['current_score_x', 'display_score_x', 'period_1_x',\n",
    "       'period_2_x', 'period_3_x', 'period_1_tie_break_x',\n",
    "       'period_2_tie_break_x', 'period_3_tie_break_x', 'current_score_y',\n",
    "       'display_score_y', 'period_1_y', 'period_2_y', 'period_3_y',\n",
    "       'period_1_tie_break_y', 'period_2_tie_break_y', 'period_3_tie_break_y'], axis=1)\n",
    "\n",
    "# all_scores"
   ]
  },
  {
   "cell_type": "markdown",
   "metadata": {},
   "source": [
    "creating a table of all players and scores"
   ]
  },
  {
   "cell_type": "code",
   "execution_count": 55,
   "metadata": {},
   "outputs": [],
   "source": [
    "all_teams = pd.merge(MatchHome_Team , MatchAway_Team , how=\"outer\" , on=\"match_id\")\n",
    "\n",
    "\n",
    "all_matches = pd.merge(all_scores, all_teams , on=\"match_id\")\n",
    "all_matches[\"games_mean\"] = all_matches[[\"games_per_set1\", \"games_per_set2\" ,\"games_per_set3\" ]].mean(axis=1)\n",
    "all_matches[\"games_sum\"] = all_matches[[\"games_per_set1\", \"games_per_set2\" ,\"games_per_set3\" ]].sum(axis=1)\n",
    "all_matches['gender'] = np.where((all_matches[\"gender_x\"]==\"M\" )|(all_matches[\"gender_y\"]==\"M\"), \"Men\", \"women\")\n",
    "\n",
    "separated= all_matches.groupby('gender')[\"games_mean\"].agg([\"mean\"])\n",
    "separated = separated[\"mean\"].astype(\"int64\")\n",
    "sum_sep = all_matches.groupby('gender')[\"games_sum\"].agg([\"min\" , \"max\"])"
   ]
  },
  {
   "cell_type": "code",
   "execution_count": 74,
   "metadata": {},
   "outputs": [
    {
     "data": {
      "image/png": "[encoded data removed]",
      "text/plain": [
       "<Figure size 640x480 with 1 Axes>"
      ]
     },
     "metadata": {},
     "output_type": "display_data"
    }
   ],
   "source": [
    "\n",
    "fig =plt.figure()\n",
    "ax = plt.axes()\n",
    "\n",
    "space_width = .2\n",
    "c1= range(len(separated))\n",
    "c2= [x + space_width for x in c1]\n",
    "c3= [x + space_width for x in c2]\n",
    "\n",
    "plt.bar(c1,sum_sep[\"min\"],color=\"#B1FF5D\" , alpha=0.8 , width=.2 , label= \"min\")\n",
    "plt.bar(c2,sum_sep[\"max\"],color=\"#5EB500\" , alpha=0.8 , width=.2,label= \"max\")\n",
    "plt.bar(c3, separated ,color=\"#81FF00\" , alpha=0.8 , width=.2, label= \"mean\" )\n",
    "\n",
    "for bar in ax.patches:\n",
    " ax.annotate(text = bar.get_height(),\n",
    "                  xy = (bar.get_x() + bar.get_width() / 2, bar.get_height()),\n",
    "                  ha='center', \n",
    "                  va='center',\n",
    "                  size=12,\n",
    "                  xytext=(0, 8),\n",
    "                  textcoords='offset points', color=\"#6D6D6D\" , alpha= .8)\n",
    "\n",
    "\n",
    "ax.set_xticks([r+ space_width for r in range(len(separated))])\n",
    "ax.set_xticklabels(separated.index ,fontsize=\"8\" ,weight=\"bold\")\n",
    "ax.spines[[\"top\" , \"right\"]].set_visible(False)\n",
    "ax.spines[['bottom' , 'left']].set_color('gray')\n",
    "ax.grid(axis=\"y\" ,linestyle=\"--\" , color=\"white\" , alpha=.4 )\n",
    "ax.set_title(\"which group played more games per set ,women or men?\", weight=\"bold\", fontsize=\"10\", color=\"#6D6D6D\",  loc=\"left\",y=1.04 ,alpha=.7)\n",
    "# ax.set_xlabel(\"Ace\" ,loc=\"left\",  color=\"gray\" ,weight=\"bold\" )\n",
    "ax.set_ylabel(\"Games\", loc=\"bottom\" , color=\"#6D6D6D\" , weight=\"bold\" , alpha=.7)\n",
    "ax.tick_params(axis=\"x\" , colors=\"#6D6D6D\", labelsize=10 )\n",
    "ax.tick_params(axis=\"y\" , colors=\"#6D6D6D\", labelsize=10 )\n",
    "fig.legend(loc=\"outside upper right\")\n",
    "plt.show()\n"
   ]
  },
  {
   "cell_type": "markdown",
   "metadata": {},
   "source": [
    "# 13. What is the distribution of left-handed versus right-handed players? "
   ]
  },
  {
   "cell_type": "code",
   "execution_count": 166,
   "metadata": {},
   "outputs": [
    {
     "name": "stderr",
     "output_type": "stream",
     "text": [
      "C:\\Users\\fz\\AppData\\Local\\Temp\\ipykernel_18772\\185127742.py:28: UserWarning: set_ticklabels() should only be used with a fixed number of ticks, i.e. after set_ticks() or using a FixedLocator.\n",
      "  ax.set_xticklabels([\"Left-handed\" , \"Right-handed\"] , fontsize=\"8\" ,weight=\"bold\")\n"
     ]
    },
    {
     "data": {
      "image/png": "[encoded data removed]",
      "text/plain": [
       "<Figure size 600x400 with 1 Axes>"
      ]
     },
     "metadata": {},
     "output_type": "display_data"
    },
    {
     "data": {
      "text/html": [
       "<div>\n",
       "<style scoped>\n",
       "    .dataframe tbody tr th:only-of-type {\n",
       "        vertical-align: middle;\n",
       "    }\n",
       "\n",
       "    .dataframe tbody tr th {\n",
       "        vertical-align: top;\n",
       "    }\n",
       "\n",
       "    .dataframe thead th {\n",
       "        text-align: right;\n",
       "    }\n",
       "</style>\n",
       "<table border=\"1\" class=\"dataframe\">\n",
       "  <thead>\n",
       "    <tr style=\"text-align: right;\">\n",
       "      <th></th>\n",
       "      <th>plays</th>\n",
       "      <th>gender</th>\n",
       "      <th>name</th>\n",
       "      <th>total</th>\n",
       "    </tr>\n",
       "  </thead>\n",
       "  <tbody>\n",
       "    <tr>\n",
       "      <th>0</th>\n",
       "      <td>left-handed</td>\n",
       "      <td>F</td>\n",
       "      <td>7</td>\n",
       "      <td>32</td>\n",
       "    </tr>\n",
       "    <tr>\n",
       "      <th>1</th>\n",
       "      <td>left-handed</td>\n",
       "      <td>M</td>\n",
       "      <td>25</td>\n",
       "      <td>32</td>\n",
       "    </tr>\n",
       "    <tr>\n",
       "      <th>2</th>\n",
       "      <td>right-handed</td>\n",
       "      <td>F</td>\n",
       "      <td>67</td>\n",
       "      <td>244</td>\n",
       "    </tr>\n",
       "    <tr>\n",
       "      <th>3</th>\n",
       "      <td>right-handed</td>\n",
       "      <td>M</td>\n",
       "      <td>177</td>\n",
       "      <td>244</td>\n",
       "    </tr>\n",
       "  </tbody>\n",
       "</table>\n",
       "</div>"
      ],
      "text/plain": [
       "          plays gender  name  total\n",
       "0   left-handed      F     7     32\n",
       "1   left-handed      M    25     32\n",
       "2  right-handed      F    67    244\n",
       "3  right-handed      M   177    244"
      ]
     },
     "execution_count": 166,
     "metadata": {},
     "output_type": "execute_result"
    }
   ],
   "source": [
    "whole_players=pd.concat([MatchHomeTeamInfo,MatchAwayTeamInfo], axis=0,ignore_index=True)\n",
    "whole_players=whole_players.drop_duplicates(subset='player_id', ignore_index=True)\n",
    "\n",
    "# whole_players['plays'].unique()\n",
    "whole_players=whole_players.dropna(subset='plays')\n",
    "gender_separated = whole_players.groupby(['plays','gender'] , as_index=False).agg({\"name\" :'count'})\n",
    "plays_separated = whole_players.groupby(['plays'] , as_index=False).agg(total=('name','count'))\n",
    "results= gender_separated.merge(plays_separated, on='plays', how='left')\n",
    "\n",
    "# results\n",
    "\n",
    "fig, (ax)= plt.subplots(figsize = (6, 4))\n",
    "\n",
    "ax.bar(results[results['gender']=='F']['plays'], results[results['gender']=='F']['name'],  color='#AB569F' , alpha= .6 , edgecolor='white' ,  width = 0.4 , label= \"female\")\n",
    "ax.bar(results[results['gender']=='M']['plays'], results[results['gender']=='M']['name'], bottom=  results[results['gender']=='F']['name'],color='#000080' , alpha= .6 , edgecolor='white' , width = 0.4 , label=\"male\")\n",
    "\n",
    "ax.set_title(\n",
    "    \"Distribution of Left-handed VS Right-handed Players\",\n",
    "    weight=\"bold\", fontsize=\"10\",  color=\"#6D6D6D\",  loc=\"left\",y=1.02 ,alpha=.7)\n",
    "ax.spines[[\"right\", \"top\"]].set_visible(False)\n",
    "ax.tick_params(axis=\"x\" , colors=\"#6D6D6D\", labelsize=10 )\n",
    "ax.tick_params(axis=\"y\" , colors=\"#6D6D6D\", labelsize=10 )\n",
    "\n",
    "ax.spines[['bottom' , 'left']].set_color('gray')\n",
    "ax.grid(axis=\"y\" ,linestyle=\"--\" , color=\"white\" , alpha=.3 )\n",
    "ax.tick_params(axis=\"x\" , colors=\"#6D6D6D\", labelsize=10 )\n",
    "ax.tick_params(axis=\"y\" , colors=\"#6D6D6D\", labelsize=10 )\n",
    "ax.set_xticklabels([\"Left-handed\" , \"Right-handed\"] , fontsize=\"8\" ,weight=\"bold\")\n",
    "plt.legend()\n",
    "plt.show()\n",
    "results\n"
   ]
  },
  {
   "cell_type": "markdown",
   "metadata": {},
   "source": [
    "# 14. What is the most common type of surface used in tournaments? "
   ]
  },
  {
   "cell_type": "markdown",
   "metadata": {},
   "source": [
    "The most common type of surface used in tournaments"
   ]
  },
  {
   "cell_type": "code",
   "execution_count": 37,
   "metadata": {},
   "outputs": [],
   "source": [
    "most_common_surface = MatchTournamentInfo['ground_type'].value_counts().idxmax()\n",
    "#print('the most common surface', most_common_surface)"
   ]
  },
  {
   "cell_type": "markdown",
   "metadata": {},
   "source": [
    "Calculation the number of tournaments based on each type of surface"
   ]
  },
  {
   "cell_type": "code",
   "execution_count": 38,
   "metadata": {},
   "outputs": [],
   "source": [
    "surface_counts = MatchTournamentInfo['ground_type'].value_counts()"
   ]
  },
  {
   "cell_type": "markdown",
   "metadata": {},
   "source": [
    "Drawing a bar plot for Distribution of Tournaments by Ground Type"
   ]
  },
  {
   "cell_type": "code",
   "execution_count": 39,
   "metadata": {},
   "outputs": [
    {
     "data": {
      "image/png": "[encoded data removed]",
      "text/plain": [
       "<Figure size 1000x600 with 1 Axes>"
      ]
     },
     "metadata": {},
     "output_type": "display_data"
    }
   ],
   "source": [
    "\n",
    "plt.figure(figsize=(10, 6))\n",
    "colors = ['blue','darkorange','deepskyblue','orange','yellowgreen']\n",
    "surface_counts.plot(kind='barh', color=colors)\n",
    "plt.title('Distribution of Tournaments by Ground Type',fontweight='bold',loc='left',color='grey')\n",
    "plt.xlabel('Number of Tournaments',fontsize=10,fontweight='bold',loc='left',color='grey')\n",
    "plt.ylabel('Ground Typ',fontsize=10,fontweight='bold',color='grey')\n",
    "plt.tight_layout() \n",
    "plt.xticks(rotation=360)\n",
    "plt.gca().spines['top'].set_color('white')\n",
    "plt.gca().spines['bottom'].set_color('grey')\n",
    "plt.gca().spines['left'].set_color('grey')\n",
    "plt.gca().spines['right'].set_color('white')\n",
    "plt.tick_params(axis='x',colors='grey')\n",
    "plt.tick_params(axis='y',colors='grey')\n",
    "plt.show()"
   ]
  },
  {
   "cell_type": "markdown",
   "metadata": {},
   "source": [
    "# 15. How many distinct countries are represented in the dataset? "
   ]
  },
  {
   "cell_type": "code",
   "execution_count": 16,
   "metadata": {},
   "outputs": [
    {
     "name": "stdout",
     "output_type": "stream",
     "text": [
      "There are 71 countries in dataset\n"
     ]
    }
   ],
   "source": [
    "countries = players[\"country\"].unique().size\n",
    "print(f\"There are {countries} countries in dataset\")"
   ]
  },
  {
   "cell_type": "markdown",
   "metadata": {},
   "source": [
    "# 16. Which player has the highest winning percentage against top 10 ranked opponents? "
   ]
  },
  {
   "cell_type": "code",
   "execution_count": 23,
   "metadata": {},
   "outputs": [
    {
     "data": {
      "text/html": [
       "<div>\n",
       "<style scoped>\n",
       "    .dataframe tbody tr th:only-of-type {\n",
       "        vertical-align: middle;\n",
       "    }\n",
       "\n",
       "    .dataframe tbody tr th {\n",
       "        vertical-align: top;\n",
       "    }\n",
       "\n",
       "    .dataframe thead th {\n",
       "        text-align: right;\n",
       "    }\n",
       "</style>\n",
       "<table border=\"1\" class=\"dataframe\">\n",
       "  <thead>\n",
       "    <tr style=\"text-align: right;\">\n",
       "      <th></th>\n",
       "      <th>name</th>\n",
       "      <th>total_matches</th>\n",
       "      <th>win_percentage</th>\n",
       "    </tr>\n",
       "  </thead>\n",
       "  <tbody>\n",
       "    <tr>\n",
       "      <th>1</th>\n",
       "      <td>Andreeva M.</td>\n",
       "      <td>1</td>\n",
       "      <td>100.0</td>\n",
       "    </tr>\n",
       "    <tr>\n",
       "      <th>6</th>\n",
       "      <td>Kalinina A.</td>\n",
       "      <td>1</td>\n",
       "      <td>100.0</td>\n",
       "    </tr>\n",
       "    <tr>\n",
       "      <th>9</th>\n",
       "      <td>Kudermetova V.</td>\n",
       "      <td>1</td>\n",
       "      <td>100.0</td>\n",
       "    </tr>\n",
       "    <tr>\n",
       "      <th>3</th>\n",
       "      <td>Dimitrov G.</td>\n",
       "      <td>2</td>\n",
       "      <td>50.0</td>\n",
       "    </tr>\n",
       "    <tr>\n",
       "      <th>0</th>\n",
       "      <td>Alexandrova E.</td>\n",
       "      <td>1</td>\n",
       "      <td>0.0</td>\n",
       "    </tr>\n",
       "    <tr>\n",
       "      <th>2</th>\n",
       "      <td>Davidovich Fokina A.</td>\n",
       "      <td>1</td>\n",
       "      <td>0.0</td>\n",
       "    </tr>\n",
       "    <tr>\n",
       "      <th>4</th>\n",
       "      <td>Humbert U.</td>\n",
       "      <td>1</td>\n",
       "      <td>0.0</td>\n",
       "    </tr>\n",
       "    <tr>\n",
       "      <th>5</th>\n",
       "      <td>Jarry N.</td>\n",
       "      <td>1</td>\n",
       "      <td>0.0</td>\n",
       "    </tr>\n",
       "    <tr>\n",
       "      <th>7</th>\n",
       "      <td>Kenin S.</td>\n",
       "      <td>1</td>\n",
       "      <td>0.0</td>\n",
       "    </tr>\n",
       "    <tr>\n",
       "      <th>8</th>\n",
       "      <td>Krueger A.</td>\n",
       "      <td>1</td>\n",
       "      <td>0.0</td>\n",
       "    </tr>\n",
       "    <tr>\n",
       "      <th>10</th>\n",
       "      <td>Musetti L.</td>\n",
       "      <td>1</td>\n",
       "      <td>0.0</td>\n",
       "    </tr>\n",
       "    <tr>\n",
       "      <th>11</th>\n",
       "      <td>Nishioka Y.</td>\n",
       "      <td>1</td>\n",
       "      <td>0.0</td>\n",
       "    </tr>\n",
       "    <tr>\n",
       "      <th>12</th>\n",
       "      <td>Ruud C.</td>\n",
       "      <td>1</td>\n",
       "      <td>0.0</td>\n",
       "    </tr>\n",
       "    <tr>\n",
       "      <th>13</th>\n",
       "      <td>Sorribes Tormo S.</td>\n",
       "      <td>1</td>\n",
       "      <td>0.0</td>\n",
       "    </tr>\n",
       "    <tr>\n",
       "      <th>14</th>\n",
       "      <td>Zheng Q.</td>\n",
       "      <td>1</td>\n",
       "      <td>0.0</td>\n",
       "    </tr>\n",
       "  </tbody>\n",
       "</table>\n",
       "</div>"
      ],
      "text/plain": [
       "                    name  total_matches  win_percentage\n",
       "1            Andreeva M.              1           100.0\n",
       "6            Kalinina A.              1           100.0\n",
       "9         Kudermetova V.              1           100.0\n",
       "3            Dimitrov G.              2            50.0\n",
       "0         Alexandrova E.              1             0.0\n",
       "2   Davidovich Fokina A.              1             0.0\n",
       "4             Humbert U.              1             0.0\n",
       "5               Jarry N.              1             0.0\n",
       "7               Kenin S.              1             0.0\n",
       "8             Krueger A.              1             0.0\n",
       "10            Musetti L.              1             0.0\n",
       "11           Nishioka Y.              1             0.0\n",
       "12               Ruud C.              1             0.0\n",
       "13     Sorribes Tormo S.              1             0.0\n",
       "14              Zheng Q.              1             0.0"
      ]
     },
     "execution_count": 23,
     "metadata": {},
     "output_type": "execute_result"
    }
   ],
   "source": [
    "# Getting the match ids of games that a high-rank player, plays in.\n",
    "whole_players=pd.concat([MatchHomeTeamInfo,MatchAwayTeamInfo], axis=0,ignore_index=True)\n",
    "ids_of_game_with_top10=whole_players[whole_players['current_rank']<11]['match_id']\n",
    "ids_of_game_with_top10=ids_of_game_with_top10.tolist()\n",
    "top10=pd.Series(ids_of_game_with_top10)\n",
    "\n",
    "\n",
    "# filtering the event dataframe with the desireded games\n",
    "filtered=MatchEventInfo[['match_id','winner_code','match_slug']]\n",
    "filtered=filtered[filtered['match_id'].isin(top10)]\n",
    "\n",
    "#adding players info to filtered dataframe\n",
    "filtered=filtered.merge(MatchAwayTeamInfo[['match_id','name','player_id','current_rank']], on='match_id', how='left')\n",
    "filtered=filtered.merge(MatchHomeTeamInfo[['match_id','name','player_id','current_rank']], on='match_id', how='left',suffixes=['_away','_home'])\n",
    "\n",
    "#creating a column showing if a player wins the match or not\n",
    "filtered['win_away']=np.where(filtered['winner_code']==2, 1, 0)\n",
    "filtered['win_home']=np.where(filtered['winner_code']==1, 1, 0)\n",
    "\n",
    "#creating a column to check if the opponent has played against top 10 or not\n",
    "filtered['confirmed_home']=np.where(filtered['current_rank_away']<11,1,0)\n",
    "filtered['confirmed_away']=np.where(filtered['current_rank_home']<11,1,0)\n",
    "\n",
    "#creating two dataframes consisting only home or away data\n",
    "home=filtered[['name_home','player_id_home','win_home','confirmed_home']].rename(columns={'name_home':'name','player_id_home':'player_id','win_home':'win','confirmed_home':'confirmed'})\n",
    "away=filtered[['name_away','player_id_away','win_away','confirmed_away']].rename(columns={'name_away':'name','player_id_away':'player_id','win_away':'win','confirmed_away':'confirmed'})\n",
    "\n",
    "# concat the hame and away together keep only those which are confiremed\n",
    "total=pd.concat([home,away],axis=0,ignore_index=True)\n",
    "total=total[total['confirmed']==1].reset_index()\n",
    "total\n",
    "\n",
    "total=total.groupby('name',as_index=False).agg(total_matches=('win','count'),win_percentage=('win','mean'))\n",
    "total['win_percentage']*=100\n",
    "total= total.sort_values('win_percentage', ascending=False)\n",
    "total\n"
   ]
  },
  {
   "cell_type": "markdown",
   "metadata": {},
   "source": [
    "# 17. What is the average number of breaks of serve per match? "
   ]
  },
  {
   "cell_type": "markdown",
   "metadata": {},
   "source": [
    "`break of serve` To win a game as the receiving player or team, thereby breaking serve. At high level of play the server is more likely to win a game, so breaks are often key moments of a match. "
   ]
  },
  {
   "cell_type": "code",
   "execution_count": 75,
   "metadata": {},
   "outputs": [
    {
     "name": "stderr",
     "output_type": "stream",
     "text": [
      "C:\\Users\\fz\\AppData\\Local\\Temp\\ipykernel_3912\\3842030304.py:4: SettingWithCopyWarning: \n",
      "A value is trying to be set on a copy of a slice from a DataFrame.\n",
      "Try using .loc[row_indexer,col_indexer] = value instead\n",
      "\n",
      "See the caveats in the documentation: https://pandas.pydata.org/pandas-docs/stable/user_guide/indexing.html#returning-a-view-versus-a-copy\n",
      "  period_2[['home_stat', 'away_stat']] = period_2[['home_stat', 'away_stat']].astype('Int64')\n",
      "C:\\Users\\fz\\AppData\\Local\\Temp\\ipykernel_3912\\3842030304.py:5: SettingWithCopyWarning: \n",
      "A value is trying to be set on a copy of a slice from a DataFrame.\n",
      "Try using .loc[row_indexer,col_indexer] = value instead\n",
      "\n",
      "See the caveats in the documentation: https://pandas.pydata.org/pandas-docs/stable/user_guide/indexing.html#returning-a-view-versus-a-copy\n",
      "  period_2['sum'] = period_2[['home_stat', 'away_stat']].sum(axis=1)\n"
     ]
    },
    {
     "name": "stdout",
     "output_type": "stream",
     "text": [
      "average number of aces per match : 7.221153846153846\n"
     ]
    },
    {
     "data": {
      "image/png": "[encoded data removed]",
      "text/plain": [
       "<Figure size 640x480 with 1 Axes>"
      ]
     },
     "metadata": {},
     "output_type": "display_data"
    }
   ],
   "source": [
    "\n",
    "# period.groupby([\"match_id\" , \"set_id\"])\n",
    "#Q3 Tables\n",
    "period_2=PeriodInfo.loc[(PeriodInfo['statistic_name']=='break_points_converted') & (PeriodInfo[\"period\"]==\"ALL\")]\n",
    "period_2[['home_stat', 'away_stat']] = period_2[['home_stat', 'away_stat']].astype('Int64')\n",
    "period_2['sum'] = period_2[['home_stat', 'away_stat']].sum(axis=1)\n",
    "period_2 =period_2.dropna(axis=1 , how=\"all\")\n",
    "period_2 =period_2[period_2[\"sum\"]!= 0].reset_index().drop(\"index\", axis=1)\n",
    "print(f\"average number of aces per match : {period_2[\"sum\"].mean()}\")\n",
    "\n",
    "\n",
    "fig =plt.figure()\n",
    "ax = plt.axes()\n",
    "plt.hist(period_2[\"sum\"] , bins=10 ,color=\"#69C803\" ,edgecolor='#6BC708', alpha=0.7)\n",
    "ax.axvline(period_2[\"sum\"].mean(), color='#3C3C3C', linestyle='dashed', linewidth=2.5)\n",
    "ax.spines[[\"top\" , \"right\"]].set_visible(False)\n",
    "ax.spines[['bottom' , 'left']].set_color('gray')\n",
    "ax.grid(axis=\"y\" ,linestyle=\"--\" , color=\"white\" , alpha=.4 )\n",
    "\n",
    "ax.set_title(\"Breaks of Serve per Match \", weight=\"bold\", fontsize=\"10\", color=\"#6D6D6D\",  loc=\"left\",y=1.02 , alpha=.7 )\n",
    "ax.set_xlabel(\"Ace\" ,loc=\"left\",  color=\"#6D6D6D\" ,weight=\"bold\" ,alpha=.7 )\n",
    "# ax.set_ylabel(\"Frequency\", loc=\"bottom\" , color=\"gray\" , weight=\"bold\")\n",
    "ax.tick_params(axis=\"x\" , colors=\"#6D6D6D\", labelsize=11 )\n",
    "ax.tick_params(axis=\"y\" , colors=\"#6D6D6D\", labelsize=11 )\n",
    "\n",
    "plt.show()\n"
   ]
  },
  {
   "cell_type": "markdown",
   "metadata": {},
   "source": [
    "The chart shows the number of break points converted by  both sides of the game (away and home) .\n",
    "\n",
    "On average , players breaks `almost 7 serves per match.`"
   ]
  }
 ],
 "metadata": {
  "kernelspec": {
   "display_name": "Python 3",
   "language": "python",
   "name": "python3"
  },
  "language_info": {
   "codemirror_mode": {
    "name": "ipython",
    "version": 3
   },
   "file_extension": ".py",
   "mimetype": "text/x-python",
   "name": "python",
   "nbconvert_exporter": "python",
   "pygments_lexer": "ipython3",
   "version": "3.12.0"
  }
 },
 "nbformat": 4,
 "nbformat_minor": 2
}
